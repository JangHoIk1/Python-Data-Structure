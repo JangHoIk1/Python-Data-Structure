{
  "nbformat": 4,
  "nbformat_minor": 0,
  "metadata": {
    "colab": {
      "name": "day03.ipynb",
      "provenance": [],
      "authorship_tag": "ABX9TyPfqLTkmZkY5YpndvQX3kmm",
      "include_colab_link": true
    },
    "kernelspec": {
      "name": "python3",
      "display_name": "Python 3"
    },
    "language_info": {
      "name": "python"
    }
  },
  "cells": [
    {
      "cell_type": "markdown",
      "metadata": {
        "id": "view-in-github",
        "colab_type": "text"
      },
      "source": [
        "<a href=\"https://colab.research.google.com/github/JangHoIk1/Python-Data-Structure/blob/main/day03.ipynb\" target=\"_parent\"><img src=\"https://colab.research.google.com/assets/colab-badge.svg\" alt=\"Open In Colab\"/></a>"
      ]
    },
    {
      "cell_type": "code",
      "execution_count": null,
      "metadata": {
        "id": "nE7eN6dRafCv"
      },
      "outputs": [],
      "source": [
        "class Stack:\n",
        "  def __init__(self,size = 5):\n",
        "    self.stk = [] # 실질적인 데이터가 저장되는 공간\n",
        "    self.size = size # 스택의 크기\n",
        "  \n",
        "# 요소 확인용 메소드\n",
        "\n",
        "  def show(self):\n",
        "    print(\"-----------------\")\n",
        "    for element in self.stk:\n",
        "      print('|',element,end=' ')\n",
        "    print(\"\\n-----------------\")\n",
        "  def isFull(self):\n",
        "    return len(self.stk) == self.size\n",
        "  \n",
        "  def isEmpty(self):\n",
        "    return len(self.stk) == 0\n",
        "\n",
        "  #push()\n",
        "  def push(self,data):\n",
        "    if not self.isFull():\n",
        "      self.stk.append(data)\n",
        "\n",
        "  #pop()\n",
        "  def pop(self):\n",
        "    if not self.isEmpty():\n",
        "      return self.stk.pop()\n",
        "  #peek()\n",
        "  def peek(self):\n",
        "    if not self.isEmpty():\n",
        "      return self.stk[-1]\n",
        "  #clear()\n",
        "  def clear(self):\n",
        "    if not self.isEmpty():\n",
        "      for i in range(len(self.stk)):\n",
        "        self.pop()"
      ]
    },
    {
      "cell_type": "code",
      "source": [
        "s = Stack()\n",
        "\n",
        "s.push(10)\n",
        "s.show()\n",
        "s.push(20)\n",
        "s.show()\n",
        "print('삭제된 값:',s.pop())\n",
        "s.show()\n",
        "print('꼭대기 요소: ',s.peek())\n",
        "s.clear()\n",
        "s.show()"
      ],
      "metadata": {
        "colab": {
          "base_uri": "https://localhost:8080/"
        },
        "id": "HZv-4EjZb0eG",
        "outputId": "c77793de-e187-46c8-f341-92981921004d"
      },
      "execution_count": null,
      "outputs": [
        {
          "output_type": "stream",
          "name": "stdout",
          "text": [
            "-----------------\n",
            "| 10 \n",
            "-----------------\n",
            "-----------------\n",
            "| 10 | 20 \n",
            "-----------------\n",
            "삭제된 값: 20\n",
            "-----------------\n",
            "| 10 \n",
            "-----------------\n",
            "꼭대기 요소:  10\n",
            "-----------------\n",
            "\n",
            "-----------------\n"
          ]
        }
      ]
    },
    {
      "cell_type": "code",
      "source": [
        "from google.colab import files\n",
        "src = list(files.upload().values())[0] # 파일을 입력하는 메쏘드"
      ],
      "metadata": {
        "colab": {
          "resources": {
            "http://localhost:8080/nbextensions/google.colab/files.js": {
              "data": "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",
              "ok": true,
              "headers": [
                [
                  "content-type",
                  "application/javascript"
                ]
              ],
              "status": 200,
              "status_text": ""
            }
          },
          "base_uri": "https://localhost:8080/",
          "height": 77
        },
        "id": "POhAOj-NjKYK",
        "outputId": "56a46995-e7a8-436e-b66c-b67724b96e65"
      },
      "execution_count": null,
      "outputs": [
        {
          "output_type": "display_data",
          "data": {
            "text/html": [
              "\n",
              "     <input type=\"file\" id=\"files-6114fc6c-b653-4d23-8d6a-e06c37f5455d\" name=\"files[]\" multiple disabled\n",
              "        style=\"border:none\" />\n",
              "     <output id=\"result-6114fc6c-b653-4d23-8d6a-e06c37f5455d\">\n",
              "      Upload widget is only available when the cell has been executed in the\n",
              "      current browser session. Please rerun this cell to enable.\n",
              "      </output>\n",
              "      <script src=\"/nbextensions/google.colab/files.js\"></script> "
            ],
            "text/plain": [
              "<IPython.core.display.HTML object>"
            ]
          },
          "metadata": {}
        },
        {
          "output_type": "stream",
          "name": "stdout",
          "text": [
            "Saving stack.py to stack.py\n"
          ]
        }
      ]
    },
    {
      "cell_type": "code",
      "source": [
        "from stack import Stack\n",
        "s = Stack()\n",
        "s.push(10)\n",
        "s.show()"
      ],
      "metadata": {
        "colab": {
          "base_uri": "https://localhost:8080/"
        },
        "id": "dYbGElyVj_Uw",
        "outputId": "b91eaeb4-a9bb-49fb-bd04-9d89035fb05c"
      },
      "execution_count": null,
      "outputs": [
        {
          "output_type": "stream",
          "name": "stdout",
          "text": [
            "-----------------\n",
            "| 10 \n",
            "-----------------\n"
          ]
        }
      ]
    },
    {
      "cell_type": "markdown",
      "source": [
        "스택을 활용한 계산기"
      ],
      "metadata": {
        "id": "hSeJyr1apyGU"
      }
    },
    {
      "cell_type": "code",
      "source": [
        "from stack import Stack\n",
        "\n",
        "def prec(op): # 연산자의 우선순위를 계산하는 함수\n",
        "  if op in '()':\n",
        "    return 0\n",
        "  if op in '+-':\n",
        "    return 1\n",
        "  if op in '*/':\n",
        "    return 2\n",
        "\n",
        "  return -1\n",
        "\n",
        "\n",
        "# 중위표현식(infix)을 후위표현식(postfix)으로 바꾸는 함수\n",
        "def in2post(infix):\n",
        "  # infix는 사용자가 입력한 중위 표현식\n",
        "  s = Stack(10) # 연산자를 저장해줄 스택\n",
        "\n",
        "  res = [] # 결과를 담아줄 리스트\n",
        "\n",
        "  for char in infix:\n",
        "    # char에는 사용자가 입력한 중위 표현식의 한 문자가 들어있다\n",
        "    if char in '0123456789':\n",
        "      res.append(char) # res에 바로 추가해준다\n",
        "    # 만일 연산자라면\n",
        "    elif char in '+-*/':\n",
        "      # 스택에서 우선순위가 자신보다 높거나 같은 애들을 pop()하여\n",
        "      # res에 넣어준다\n",
        "      while not s.isEmpty():\n",
        "        # char : 내가 넣어주고자 하는 연산자\n",
        "        # op : 스택의 꼭대기에 있는 연산자\n",
        "        op = s.peek()\n",
        "\n",
        "        # 넣어주고자 하는 연사낮의 우선순위가\n",
        "        # 스택의 꼭대기에 존재하는 연산자의 우선순위보다 낮다면\n",
        "        if prec(char) <= prec(op):\n",
        "          res.append(s.pop()) # 스택의 연산자를 pop 하여 res에 추가한다\n",
        "        else: # 스택에는 나보다 낮은 우선순위를 가진 연산자가 있다면\n",
        "          break # 반복 종료\n",
        "      s.push(char)\n",
        "    elif char == '(':\n",
        "      s.append(char)\n",
        "    elif char == ')':\n",
        "      op = s.peek()\n",
        "      while op != '(':\n",
        "        res.append(op)\n",
        "        op = s.pop()\n",
        "\n",
        "\n",
        "\n",
        "  # for 문을 다 돌고 나면 스택에 남아 있는 연산자를 res에 넣어준다\n",
        "  while not s.isEmpty():\n",
        "    res.append(s.pop())\n",
        "  return res\n",
        "\n",
        "# 후위표현식을 계산하는 함수\n",
        "def calc(postfix):\n",
        "  # postfix에는 후위표현식이 들어있음\n",
        "  s = Stack(10)\n",
        "  for element in postfix:\n",
        "\n",
        "    if element in '0123456789':\n",
        "      s.push(element)\n",
        "    if element in \"*/+-\":\n",
        "      num2 = int(s.pop())\n",
        "      num1 = int(s.pop())\n",
        "      if element == '+':\n",
        "        temp = num1 + num2\n",
        "      elif element == '-':\n",
        "        temp = num1-num2\n",
        "      elif element == '*':\n",
        "        temp = num1*num2\n",
        "      else:\n",
        "        temp = num1//num2\n",
        "      \n",
        "      s.push(temp)\n",
        "  # 반복문이 모두 끝났을 때 스택에 남아있는 값이 계산 결과가 된다\n",
        "  return s.pop()  \n",
        "    \n",
        "  \n",
        "  \n"
      ],
      "metadata": {
        "id": "xu3DPqmRpzmM"
      },
      "execution_count": null,
      "outputs": []
    },
    {
      "cell_type": "code",
      "source": [
        "infix = input('중위표현식 >> ')\n",
        "res = in2post(infix) # 중위표현식 순서로 구성되어있는 리스트\n",
        "\n",
        "\n",
        "print('결과 :',end='')\n",
        "for i in res:\n",
        "  print(i,end='')\n",
        "\n",
        "print('\\n계산 결과 : ',calc(res))"
      ],
      "metadata": {
        "colab": {
          "base_uri": "https://localhost:8080/"
        },
        "id": "GAsEexf0yaYY",
        "outputId": "f9fae218-be90-497e-8939-9a000b886072"
      },
      "execution_count": null,
      "outputs": [
        {
          "output_type": "stream",
          "name": "stdout",
          "text": [
            "중위표현식 >> 5+7*2\n",
            "결과 :572*+\n",
            " 19\n"
          ]
        }
      ]
    },
    {
      "cell_type": "markdown",
      "source": [
        "# 선형 큐\n",
        "enqueue()  \n",
        "dequeue()  \n",
        "peek()  \n",
        "clear()  \n",
        "isFull()  \n",
        "isEmpty()  \n"
      ],
      "metadata": {
        "id": "HYFG7lb6_KuO"
      }
    },
    {
      "cell_type": "code",
      "source": [
        "class LinearQueue:\n",
        "  def __init__(self,size = 5):\n",
        "    self.queue = [None for i in range(size)] # 데이터를 저장할 리스트\n",
        "    self.size = size # 큐의 크기를 저장할 size 변수\n",
        "    self.rear = 0 # 큐의 rear 위치인덱스를 저장할 변수\n",
        "                  # 큐의 front는 0번 인덱스\n",
        "  #isFull()\n",
        "  def isFull(self):\n",
        "    return self.rear == self.size\n",
        "  #isEmpty()\n",
        "  def isEmpty(self):\n",
        "    return self.rear == 0\n",
        "  #enqueue()\n",
        "  def enqueue(self,data):\n",
        "    if not self.isFull():\n",
        "      self.queue[self.rear] = data\n",
        "      self.rear +=1\n",
        "\n",
        "  #dequeue()\n",
        "  def dequeue(self):\n",
        "    if not self.isFull():\n",
        "      # temp에 front에 존재하는 값(삭제될 값)을 잠시 담아준다\n",
        "      temp = self.queue[0]\n",
        "      for i in range(self.rear):\n",
        "        self.queue[i] = self.queue[i+1]\n",
        "      self.rear -= 1\n",
        "      return temp\n",
        "\n",
        "  #peek()\n",
        "  def peek(self):\n",
        "    if not self.isEmpty():\n",
        "      return self.queue[0]\n",
        "  #clear()\n",
        "  def clear(self):\n",
        "    self.rear = 0\n",
        "  \n",
        "  def show(self):\n",
        "    for i in range(self.rear):\n",
        "      print('[',self.queue[i],']',end='')\n",
        "    print()\n"
      ],
      "metadata": {
        "id": "zgDEMZ_B_i0G"
      },
      "execution_count": null,
      "outputs": []
    },
    {
      "cell_type": "code",
      "source": [
        "q = LinearQueue()\n",
        "\n",
        "q.enqueue(10)\n",
        "q.enqueue(20)\n",
        "q.enqueue(30)\n",
        "q.enqueue(40)\n",
        "q.show()\n",
        "\n",
        "print('삭제된 값 : ', q.dequeue())\n",
        "q.show()\n",
        "print(q.queue)\n",
        "q.enqueue(100)\n",
        "q.show()\n",
        "print(q.queue)"
      ],
      "metadata": {
        "colab": {
          "base_uri": "https://localhost:8080/"
        },
        "id": "Cth6YtzUJbhQ",
        "outputId": "4baf99a6-ff65-4d43-fa54-46e7068a2d13"
      },
      "execution_count": null,
      "outputs": [
        {
          "output_type": "stream",
          "name": "stdout",
          "text": [
            "[ 10 ][ 20 ][ 30 ][ 40 ]\n",
            "삭제된 값 :  10\n",
            "[ 20 ][ 30 ][ 40 ]\n",
            "[20, 30, 40, None, None]\n",
            "[ 20 ][ 30 ][ 40 ][ 100 ]\n",
            "[20, 30, 40, 100, None]\n"
          ]
        }
      ]
    }
  ]
}