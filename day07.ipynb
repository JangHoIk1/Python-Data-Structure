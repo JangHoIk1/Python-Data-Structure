{
  "nbformat": 4,
  "nbformat_minor": 0,
  "metadata": {
    "colab": {
      "name": "day07.ipynb",
      "provenance": [],
      "collapsed_sections": [],
      "include_colab_link": true
    },
    "kernelspec": {
      "name": "python3",
      "display_name": "Python 3"
    },
    "language_info": {
      "name": "python"
    }
  },
  "cells": [
    {
      "cell_type": "markdown",
      "metadata": {
        "id": "view-in-github",
        "colab_type": "text"
      },
      "source": [
        "<a href=\"https://colab.research.google.com/github/JangHoIk1/Python-Data-Structure/blob/main/day07.ipynb\" target=\"_parent\"><img src=\"https://colab.research.google.com/assets/colab-badge.svg\" alt=\"Open In Colab\"/></a>"
      ]
    },
    {
      "cell_type": "code",
      "execution_count": null,
      "metadata": {
        "id": "Ppcdpjv7hxw5"
      },
      "outputs": [],
      "source": [
        "class Hash:\n",
        "  def __init__(self, size = 10):\n",
        "    self.table = [None for i in range(size)]\n",
        "    self.size = size\n",
        "  \n",
        "  def hash(self, data):\n",
        "    return data % self.size\n",
        "\n",
        "  #데이터 삽입\n",
        "  def add(self, data):\n",
        "    # hash함수를 사용하여 데이터가 저장될 위치(해시값)을 계산한다\n",
        "    idx = self.hash(data)\n",
        "    self.table[idx] = data # 해당 인덱스 위치에 데이터 추가\n",
        "    \n",
        "  #데이터 삭제\n",
        "  def remove(self, data):\n",
        "    # 삭제할 데이터가 저장된 위치를 계산하여\n",
        "    # 해당 위치에 저장된 값을 None으로 바꿔준다\n",
        "    self.table[self.hash(data)] = None\n",
        "  \n",
        "  def show(self):\n",
        "    print('----hash table----')\n",
        "    for i in range(self.size):\n",
        "      print(i,':', self.table[i])\n",
        "\n",
        "  #데이터 검색\n",
        "  def search(self, data):\n",
        "    return self.table[self.hash(data)]"
      ]
    },
    {
      "cell_type": "code",
      "source": [
        "h = Hash()\n",
        "h.show()\n",
        "h.add(2021556)\n",
        "h.add(2018108)\n",
        "h.remove(2021556)\n",
        "h.show()\n",
        "print(h.search(2018108))"
      ],
      "metadata": {
        "colab": {
          "base_uri": "https://localhost:8080/"
        },
        "id": "TPY1HBYBnVQ3",
        "outputId": "54e11459-a17d-4f34-b150-7511a7bceeb9"
      },
      "execution_count": null,
      "outputs": [
        {
          "output_type": "stream",
          "name": "stdout",
          "text": [
            "----hash table----\n",
            "0 : None\n",
            "1 : None\n",
            "2 : None\n",
            "3 : None\n",
            "4 : None\n",
            "5 : None\n",
            "6 : None\n",
            "7 : None\n",
            "8 : None\n",
            "9 : None\n",
            "----hash table----\n",
            "0 : None\n",
            "1 : None\n",
            "2 : None\n",
            "3 : None\n",
            "4 : None\n",
            "5 : None\n",
            "6 : None\n",
            "7 : None\n",
            "8 : 2018108\n",
            "9 : None\n",
            "2018108\n"
          ]
        }
      ]
    },
    {
      "cell_type": "code",
      "source": [
        "class Hash:\n",
        "  def __init__(self, size = 10):\n",
        "    self.table = [None for i in range(size)]\n",
        "    self.size = size\n",
        "  \n",
        "  def hash(self, key):\n",
        "    return key % self.size\n",
        "\n",
        "  def add(self, key, value):\n",
        "    idx = self.hash(key)\n",
        "    self.table[idx] = [key, value]\n",
        "\n",
        "  def remove(self, key):\n",
        "    idx = self.hash(key)\n",
        "    self.table[idx] = None\n",
        "  \n",
        "  def search(self, key):\n",
        "    idx = self.hash(key)\n",
        "    return self.table[idx][1]\n",
        "\n",
        "  def show(self):\n",
        "    print('----hash table----')\n",
        "    for i in range(self.size):\n",
        "      print(i, ':', self.table[i])"
      ],
      "metadata": {
        "id": "GtHkTtiqo2nI"
      },
      "execution_count": null,
      "outputs": []
    },
    {
      "cell_type": "code",
      "source": [
        "h = Hash()\n",
        "h.add(2021556, '김철수')\n",
        "h.add(2020118, '박영희')\n",
        "h.remove(2021556)\n",
        "print('결과:', h.search(2020118))\n",
        "h.show()"
      ],
      "metadata": {
        "colab": {
          "base_uri": "https://localhost:8080/"
        },
        "id": "REWc3IeqqhKL",
        "outputId": "1db7dcc2-a9de-4fb2-a303-6f3c54afcb1a"
      },
      "execution_count": null,
      "outputs": [
        {
          "output_type": "stream",
          "name": "stdout",
          "text": [
            "결과: 박영희\n",
            "----hash table----\n",
            "0 : None\n",
            "1 : None\n",
            "2 : None\n",
            "3 : None\n",
            "4 : None\n",
            "5 : None\n",
            "6 : None\n",
            "7 : None\n",
            "8 : [2020118, '박영희']\n",
            "9 : None\n"
          ]
        }
      ]
    },
    {
      "cell_type": "code",
      "source": [
        "class Hash:\n",
        "  def __init__(self, size = 10):\n",
        "    self.table = [None for i in range(size)]\n",
        "    self.size = size\n",
        "\n",
        "  def hash(self, key):\n",
        "    total = 0\n",
        "    for ch in key:\n",
        "      total += ord(ch)\n",
        "    return total % self.size\n",
        "  \n",
        "  def add(self, key, value):\n",
        "    idx = self.hash(key)\n",
        "    self.table[idx] = [key, value]\n",
        "\n",
        "  def remove(self, key):\n",
        "    self.table[self.hash(key)] = None\n",
        "  \n",
        "  def search(self, key):\n",
        "    idx = self.hash(key)\n",
        "    return self.table[idx][1]\n",
        "\n",
        "  def show(self):\n",
        "    print('----hash table----')\n",
        "    for i in range(self.size):\n",
        "      print(i, ':', self.table[i])"
      ],
      "metadata": {
        "id": "8MoFOKuGvUT7"
      },
      "execution_count": null,
      "outputs": []
    },
    {
      "cell_type": "code",
      "source": [
        "h = Hash()\n",
        "h.add('김철수', '010-1234-1234')\n",
        "h.add('박영희', '010-8888-8888')\n",
        "h.add('배상엽', '010-0000-0000')\n",
        "h.show()"
      ],
      "metadata": {
        "colab": {
          "base_uri": "https://localhost:8080/"
        },
        "id": "4lDrRKltzXAJ",
        "outputId": "ef740840-0240-408f-a100-efe9321b8a59"
      },
      "execution_count": null,
      "outputs": [
        {
          "output_type": "stream",
          "name": "stdout",
          "text": [
            "----hash table----\n",
            "0 : ['김철수', '010-1234-1234']\n",
            "1 : None\n",
            "2 : None\n",
            "3 : None\n",
            "4 : None\n",
            "5 : None\n",
            "6 : ['배상엽', '010-0000-0000']\n",
            "7 : None\n",
            "8 : None\n",
            "9 : None\n"
          ]
        }
      ]
    },
    {
      "cell_type": "markdown",
      "source": [
        "# 충돌 회피방법\n",
        "## 개방주소법"
      ],
      "metadata": {
        "id": "zG_OniCi7hEE"
      }
    },
    {
      "cell_type": "code",
      "source": [
        "class Hash:\n",
        "  def __init__(self, size = 10):\n",
        "    # 0: 비어있는 상태\n",
        "    # -1: 삭제된 상태\n",
        "    # 1: 저장된 상태\n",
        "    self.table = [[0, None] for i in range(size)]\n",
        "    self.size = size\n",
        "\n",
        "  def hash(self, key):\n",
        "    return key % self.size\n",
        "\n",
        "  def re_hash(self, hv):\n",
        "    return (hv + 1) % self.size\n",
        "\n",
        "  def add(self, key):\n",
        "    idx = self.hash(key)\n",
        "    while self.table[idx][0] == 1:\n",
        "      idx = self.re_hash(idx)\n",
        "    \n",
        "    self.table[idx][1] = key\n",
        "    self.table[idx][0] = 1\n",
        "\n",
        "  def remove(self, key):\n",
        "    idx = self.hash(key)\n",
        "    #while self.table[idx][0] == -1 or (self.table[idx][0] == 1 and self.table[idx][1] != key):\n",
        "    while self.table[idx][0] != 0:\n",
        "      if self.table[idx][0] == 1 and self.table[idx][1] == key:\n",
        "        break\n",
        "      \n",
        "      idx = self.re_hash(idx)\n",
        "\n",
        "    #while문이 끝나고 나면 idx에는 삭제하고자하는 버킷의 인덱스가 들어있다\n",
        "    #만일 삭제하고자 하는 key가 존재하지 않으면 idx번째 버킷의 상태는 0이다\n",
        "    if self.table[idx][0] != 0:# idx번째 버킷의 상태가 0이 아니라면 key를 찾았다는 의미이므로\n",
        "      self.table[idx][0] = -1 # 해당 버킷의 상태를 -1(삭제됨)으로 바꾸어 삭제해준다\n",
        "\n",
        "  \n",
        "  # search()\n",
        "  def search(self, key):\n",
        "    idx = self.hash(key)\n",
        "    while self.table[idx][0] != 0:\n",
        "      if self.table[idx][0] == 1 and self.table[idx][1] == key:\n",
        "        return self.table[idx][1]\n",
        "      idx = self.re_hash(idx)\n",
        "\n",
        "  # show()\n",
        "  def show(self):\n",
        "    print('----hash table----')\n",
        "    for i in range(self.size):\n",
        "      print(i, end = ':')\n",
        "      if self.table[i][0] == 1:\n",
        "        print(self.table[i][1])\n",
        "      elif self.table[i][0] == 0:\n",
        "        print('--비어있음--')\n",
        "      else:\n",
        "        print('--삭제됨--')\n",
        "      \n",
        "\n"
      ],
      "metadata": {
        "id": "FOORHMHJ7gKp"
      },
      "execution_count": null,
      "outputs": []
    },
    {
      "cell_type": "code",
      "source": [
        "h = Hash()\n",
        "h.add(12)\n",
        "h.add(22)\n",
        "h.add(32)\n",
        "h.remove(12)\n",
        "h.add(52)\n",
        "h.remove(52)\n",
        "h.remove(32)\n",
        "# h.remove(102)\n",
        "h.show()\n",
        "\n",
        "print(h.table)"
      ],
      "metadata": {
        "colab": {
          "base_uri": "https://localhost:8080/"
        },
        "id": "UipL3FjYM70c",
        "outputId": "6da4b53f-6889-45c8-90fb-38a9e823d5e1"
      },
      "execution_count": null,
      "outputs": [
        {
          "output_type": "stream",
          "name": "stdout",
          "text": [
            "----hash table----\n",
            "0:--비어있음--\n",
            "1:--비어있음--\n",
            "2:--삭제됨--\n",
            "3:22\n",
            "4:--삭제됨--\n",
            "5:--비어있음--\n",
            "6:--비어있음--\n",
            "7:--비어있음--\n",
            "8:--비어있음--\n",
            "9:--비어있음--\n",
            "[[0, None], [0, None], [-1, 52], [1, 22], [-1, 32], [0, None], [0, None], [0, None], [0, None], [0, None]]\n"
          ]
        }
      ]
    },
    {
      "cell_type": "markdown",
      "source": [
        "# 충돌회피방법\n",
        "## 체인법"
      ],
      "metadata": {
        "id": "DlPptcn9Ox6p"
      }
    },
    {
      "cell_type": "code",
      "source": [
        "class Hash:\n",
        "  # 링크드리스트에서 사용할 노드\n",
        "  class Node:\n",
        "    def __init__(self, data, node = None):\n",
        "      self.data = data\n",
        "      self.next = node\n",
        "\n",
        "  def __init__(self, size = 10):\n",
        "    self.table= [None for i in range(size)]\n",
        "    self.size = size\n",
        "\n",
        "  def hash(self, key):\n",
        "    return key % self.size\n",
        "\n",
        "  def add(self, key):\n",
        "    idx = self.hash(key)\n",
        "\n",
        "    # 링크드리스트 추가\n",
        "    newNode = self.Node(key, self.table[idx])\n",
        "\n",
        "    if self.table[idx] == None:\n",
        "      self.table[idx] = newNode\n",
        "    \n",
        "    # 중복된 값 찾기\n",
        "    curr = self.table[idx]\n",
        "    while curr.next != None:\n",
        "      if curr.data == key:\n",
        "        return\n",
        "      curr = curr.next\n",
        "\n",
        "    #중복된 값이 없다면 노드 추가\n",
        "    self.table[idx] = newNode\n",
        "\n",
        "  #remove()\n",
        "  #search()\n",
        "  #show()\n"
      ],
      "metadata": {
        "id": "C-J8Bg-NO5jF"
      },
      "execution_count": null,
      "outputs": []
    }
  ]
}