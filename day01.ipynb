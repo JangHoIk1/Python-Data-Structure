{
  "nbformat": 4,
  "nbformat_minor": 0,
  "metadata": {
    "colab": {
      "name": "day01.ipynb",
      "provenance": [],
      "collapsed_sections": [],
      "authorship_tag": "ABX9TyMBNu3VTwfonyBjdwE/uwG4",
      "include_colab_link": true
    },
    "kernelspec": {
      "name": "python3",
      "display_name": "Python 3"
    },
    "language_info": {
      "name": "python"
    }
  },
  "cells": [
    {
      "cell_type": "markdown",
      "metadata": {
        "id": "view-in-github",
        "colab_type": "text"
      },
      "source": [
        "<a href=\"https://colab.research.google.com/github/JangHoIk1/Python-Data-Structure/blob/main/day01.ipynb\" target=\"_parent\"><img src=\"https://colab.research.google.com/assets/colab-badge.svg\" alt=\"Open In Colab\"/></a>"
      ]
    },
    {
      "cell_type": "code",
      "execution_count": null,
      "metadata": {
        "colab": {
          "base_uri": "https://localhost:8080/"
        },
        "id": "RmS-UUfPbFeP",
        "outputId": "4a19f22a-088e-43cb-9a3f-8f3ec9e4c151"
      },
      "outputs": [
        {
          "output_type": "stream",
          "name": "stdout",
          "text": [
            "Hello World\n",
            "Hello Python\n",
            "배상엽\n"
          ]
        }
      ],
      "source": [
        "# 코드셀, 파이썬 코드를 적는 공간\n",
        "\n",
        "# 코드셀 전체 실행 : ctrl + enter\n",
        "# 코드 한 줄 실행 : ctrl + shift + enter\n",
        "print('Hello World')\n",
        "print('Hello Python')\n",
        "\n",
        "name = '배상엽'\n",
        "\n",
        "print(name)"
      ]
    },
    {
      "cell_type": "markdown",
      "source": [
        "# 제목\n",
        "## 부제목\n",
        "### 부부제목\n",
        "본문  \n",
        "다음줄 입니다.(띄어쓰기 2번 + 엔터)  \n",
        "텍스트 셀은 설명을 적는 공간이다  \n",
        "** **굵은 텍스트** 굵게표현은 별로 감싸준다**"
      ],
      "metadata": {
        "id": "knH8HA7NcIyG"
      }
    },
    {
      "cell_type": "markdown",
      "source": [
        "# 모듈\n",
        "# math\n",
        "# 수학과 관련된 함수와 기능들을 사용할 수 있는 모듈\n",
        "import math\n",
        "\n",
        "# floor() : 값을 내림 해주는 함수\n",
        "floor(3.5)"
      ],
      "metadata": {
        "id": "yH6465UMec8W"
      }
    },
    {
      "cell_type": "code",
      "source": [
        "# 모듈\n",
        "# math\n",
        "# 수학과 관련된 함수와 기능들을 사용할 수 있는 모듈\n",
        "import math\n",
        "# floor() : 값을 내림 해주는 함수\n",
        "print(math.floor(3.5))\n",
        "\n",
        "#ceil() : 값을 올림 해주는 함수\n",
        "math.ceil(3.5)\n",
        "\n",
        "#trunc() : 소수점 아래 값을 절삭하는 함수\n",
        "math.trunc(3.5)\n",
        "math.trunc(-3.4) # -3\n",
        "math.floor(-3.4) # -4\n",
        "\n",
        "# sqrt() : square root 제곱ㄱ즌\n",
        "math.sqrt(25) # 5.0\n",
        "\n",
        "# pow() : 거듭제곱을 수행하는 함수\n",
        "type(math.pow(5,3)) # 125.0 type은 float\n",
        "5**3 # 125, int\n",
        "\n",
        "math.pi"
      ],
      "metadata": {
        "colab": {
          "base_uri": "https://localhost:8080/"
        },
        "id": "a7K17xImjgAl",
        "outputId": "4febc818-28ca-4f74-8ae8-85b064542773"
      },
      "execution_count": null,
      "outputs": [
        {
          "output_type": "execute_result",
          "data": {
            "text/plain": [
              "float"
            ]
          },
          "metadata": {},
          "execution_count": 16
        }
      ]
    },
    {
      "cell_type": "code",
      "source": [
        ""
      ],
      "metadata": {
        "id": "HO8rJiw9lj6p"
      },
      "execution_count": null,
      "outputs": []
    },
    {
      "cell_type": "markdown",
      "source": [
        "# random\n",
        "난수(랜덤숫자)와 관련된 여러 함수를 모아 놓은 파일"
      ],
      "metadata": {
        "id": "ZB4rhXrunsu9"
      }
    },
    {
      "cell_type": "code",
      "source": [
        "import random\n",
        "\n",
        "# randint(a,b) --> a와 b 사이의 숫자 중 랜덤으로 int 값을 return\n",
        "random.randint(10,14)\n",
        "\n",
        "# randrange()\n",
        "random.randrange(10) # range함수의 범위를 생각 하면됨 0~9 랜덤한 숫자\n",
        "random.randrange(5,10) # 5부터 9 사이의 랜덤한 숫자\n",
        "random.randrange(5,10,2) # 5 7 9 중 랜덤한 숫자\n",
        "\n",
        "# random() 0 이상 1미만의 범위에서 임의 값을 return한다\n",
        "random.random()\n",
        "\n",
        "# choice(시퀀스자료형)\n",
        "# 시퀀스 자료형 : 순서가 있는 자료형 -> 리스트, 튜플, 문자열\n",
        "random.choice('안녕하세요') # 랜덤으로 한 글자만 나옴\n",
        "random.choice([120,340,543,743])\n",
        "\n",
        "# sample(시퀀스자료형, 갯수)\n",
        "# 해당 시퀀스 자료형 데이터에서 갯수만큼을 뽑아준다(중복된 값은 뽑지 않는다)\n",
        "seasons = ['봄', '여름', '가을', '겨울']\n",
        "print(random.sample(seasons,2))\n",
        "print(random.sample(seasons,2))\n",
        "\n",
        "# shuffle(시퀀스자료형) : 요소를 무작위로 섞어준다\n",
        "li = [1,3,5,7,9]\n",
        "random.shuffle(li)\n",
        "\n"
      ],
      "metadata": {
        "id": "PM-V2e15nwnW"
      },
      "execution_count": null,
      "outputs": []
    },
    {
      "cell_type": "markdown",
      "source": [
        "# time\n"
      ],
      "metadata": {
        "id": "G1OrblXXqxWu"
      }
    },
    {
      "cell_type": "code",
      "source": [
        "import time\n",
        "\n",
        "# sleep(초) : 해당 초만큼 실행을 멈춰주는 함수\n",
        "print('안녕하세요')\n",
        "time.sleep(5)\n",
        "print('반갑습니다')\n",
        "\n",
        "# time() : 1970년 1월 1일 0시 0분 0초 부터 현재까지 흐른 시간을 초로 나타낸 값\n",
        "time.time()"
      ],
      "metadata": {
        "colab": {
          "base_uri": "https://localhost:8080/"
        },
        "id": "GYtRbQ72q5TM",
        "outputId": "4f557ce2-95a3-4c42-f03b-428210ed7930"
      },
      "execution_count": null,
      "outputs": [
        {
          "output_type": "stream",
          "name": "stdout",
          "text": [
            "안녕하세요\n",
            "반갑습니다\n"
          ]
        }
      ]
    },
    {
      "cell_type": "code",
      "source": [
        "# 매개변수로 값을 넘겨받고,\n",
        "# 1부터 해당 매개변수로 넘겨받은 값까지 더한 결과를\n",
        "# return 하는 함수(알고리즘) 만들기\n",
        "\n",
        "def sum_num(num):\n",
        "  sum = 0\n",
        "  for i in range(num+1):\n",
        "    sum+=i\n",
        "  return sum\n",
        "\n",
        "\n",
        "num = int(input())\n",
        "print(sum_num(num))\n",
        "\n",
        "def getSum(num):\n",
        "    return (num+1)*num/2\n",
        "\n",
        "print(getSum(10))\n",
        "\n",
        "# 시간 복잡도 확인 방법\n",
        "start = time.time()\n",
        "print(sum_num(10))\n",
        "end =time.time()\n",
        "print('시간 :', end-start)\n",
        "\n",
        "start = time.time()\n",
        "print(getSum(10))\n",
        "end =time.time()\n",
        "print('시간 :', end-start)"
      ],
      "metadata": {
        "colab": {
          "base_uri": "https://localhost:8080/"
        },
        "id": "G2NpqivwsXRm",
        "outputId": "05a48f2d-4be0-4093-ff31-837d8126c3fe"
      },
      "execution_count": null,
      "outputs": [
        {
          "output_type": "stream",
          "name": "stdout",
          "text": [
            "10\n",
            "55\n",
            "55.0\n",
            "55\n",
            "시간 : 0.00048422813415527344\n",
            "55.0\n",
            "시간 : 0.0002951622009277344\n"
          ]
        }
      ]
    },
    {
      "cell_type": "markdown",
      "source": [
        "# datatime\n"
      ],
      "metadata": {
        "id": "MudYjKbMwhFd"
      }
    },
    {
      "cell_type": "code",
      "source": [
        "import datetime\n",
        "\n",
        "# data() : 숫자를 날짜 형식으로 변하는 함수\n",
        "print(datetime.date(2022,2,12))\n",
        "# now() : 메소드(클래스 안에 정의된 함수)\n",
        "# 시스템 상의 현재 시간을 반환한다\n",
        "print(datetime.dawtatime.now()) \n",
        "#      모듈이름.객체이름.메소드()"
      ],
      "metadata": {
        "colab": {
          "base_uri": "https://localhost:8080/"
        },
        "id": "VB9Idt-xwkX8",
        "outputId": "33870443-530f-4502-99eb-6b011a36fcd4"
      },
      "execution_count": null,
      "outputs": [
        {
          "output_type": "stream",
          "name": "stdout",
          "text": [
            "2022-02-12\n"
          ]
        }
      ]
    },
    {
      "cell_type": "markdown",
      "source": [
        "모듈에서 특정 함수만 import 하기"
      ],
      "metadata": {
        "id": "NDG_J9yx1KdU"
      }
    },
    {
      "cell_type": "code",
      "source": [
        "from random import randint\n",
        "\n",
        "randint(1,10)\n",
        "random.random()"
      ],
      "metadata": {
        "id": "0in7AN3V1NOM"
      },
      "execution_count": null,
      "outputs": []
    },
    {
      "cell_type": "code",
      "source": [
        "from random import * # * : 모든\n",
        "def randint():\n",
        "  print('사용자가 정의함') \n",
        "randint(1,2) # 만일 같은 이름으로 정의된 함수가 있다면 모듈 안에 있는\n",
        "             # 함수는 사용이 불가능하다\n",
        "randrange(10)"
      ],
      "metadata": {
        "id": "LfwGIvTa1huU"
      },
      "execution_count": null,
      "outputs": []
    },
    {
      "cell_type": "code",
      "source": [
        "# 모듈에 별칭 설정하기\n",
        "import random as r\n",
        "\n",
        "r.randint(1,2)"
      ],
      "metadata": {
        "id": "pbrd82o62JjN"
      },
      "execution_count": null,
      "outputs": []
    },
    {
      "cell_type": "markdown",
      "source": [
        "# 외부 모듈\n",
        "파이썬 내부에 설치되지 않은 모듈이므로 설치를 먼저 진행하고 import를 해줘야 한다"
      ],
      "metadata": {
        "id": "V5droAvu6R1X"
      }
    },
    {
      "cell_type": "code",
      "source": [
        "import matplotlib.pyplot as plt\n",
        "\n",
        "data = [10,45,76,34]\n",
        "x = ['seoul', 'incheon', 'daegu','busan']\n",
        "\n",
        "fig = plt.figure()\n",
        "ax = fig.add_subplot(1,1,1)\n",
        "\n",
        "# bar()\n",
        "ax.bar(x,data)\n",
        "plt.show()"
      ],
      "metadata": {
        "colab": {
          "base_uri": "https://localhost:8080/",
          "height": 265
        },
        "id": "YP16uQz36io-",
        "outputId": "aaa91bdf-b224-4825-8bec-f8f383b5dbb9"
      },
      "execution_count": null,
      "outputs": [
        {
          "output_type": "display_data",
          "data": {
            "image/png": "[encoded data removed]",
            "text/plain": [
              "<Figure size 432x288 with 1 Axes>"
            ]
          },
          "metadata": {
            "needs_background": "light"
          }
        }
      ]
    },
    {
      "cell_type": "markdown",
      "source": [
        "리스트 컴프리헨션"
      ],
      "metadata": {
        "id": "ZJOmMWVc82nW"
      }
    },
    {
      "cell_type": "code",
      "source": [
        "# 1~10까지 들어있는 리스트 만들기\n",
        "# li = [1,2,3,4,5,6,7,8,9,10]\n",
        "\n",
        "# 주석처리 한번에 : 드래그, ctrl + /\n",
        "# li = []\n",
        "# for i in range(1,11):\n",
        "#   li.append(i)\n",
        "\n",
        "# print(li)\n",
        "\n",
        "# 리스트 컴프리헨션\n",
        "li = [ i for i in range(1,11)]\n",
        "print(li)\n",
        "\n",
        "li = [i for i in range(1, 101) if i%2==0]\n",
        "# li = []\n",
        "# for i in range(1,101):\n",
        "#   if i%2==0:\n",
        "#     li.append(i)\n",
        "\n",
        "print(li)\n",
        "\n",
        "li = [10 for i in range(10)]\n",
        "print(li)\n",
        "\n",
        "li = [i*i for i in range(5)]\n",
        "print(li)"
      ],
      "metadata": {
        "colab": {
          "base_uri": "https://localhost:8080/"
        },
        "id": "00394xTE84Ms",
        "outputId": "ae1cb939-d20c-4f9b-e0a7-205e90b427dc"
      },
      "execution_count": null,
      "outputs": [
        {
          "output_type": "stream",
          "name": "stdout",
          "text": [
            "[1, 2, 3, 4, 5, 6, 7, 8, 9, 10]\n",
            "[2, 4, 6, 8, 10, 12, 14, 16, 18, 20, 22, 24, 26, 28, 30, 32, 34, 36, 38, 40, 42, 44, 46, 48, 50, 52, 54, 56, 58, 60, 62, 64, 66, 68, 70, 72, 74, 76, 78, 80, 82, 84, 86, 88, 90, 92, 94, 96, 98, 100]\n",
            "[10, 10, 10, 10, 10, 10, 10, 10, 10, 10]\n",
            "[0, 1, 4, 9, 16]\n"
          ]
        }
      ]
    },
    {
      "cell_type": "markdown",
      "source": [
        "클래스"
      ],
      "metadata": {
        "id": "CgaI7qzHBhA1"
      }
    },
    {
      "cell_type": "code",
      "source": [
        "class Person:\n",
        "  pass # 아무런 기능이 없다 비워두면 들여쓰기 오류가 발생하기에 사용하는 키워드\n",
        "\n",
        "# p : 객체, 인스턴스, 참조변수 라고 부름\n",
        "# Person() : 생성자, 메모리에 등록시켜주는 역할을 한다\n",
        "p = Person()\n",
        "print(id(p))\n",
        "print(id(Person()))\n",
        "print(id(Person()))\n",
        "p2 = Person()\n",
        "print(id(p2))\n",
        "type(p)\n",
        "p.name = '김철수'\n",
        "p2.name = '박영희'\n",
        "\n",
        "print(p.name)\n",
        "print(p2.name)"
      ],
      "metadata": {
        "colab": {
          "base_uri": "https://localhost:8080/"
        },
        "id": "-3Oe-WgaBhqN",
        "outputId": "12589398-03e2-4704-fb1f-e09d923571aa"
      },
      "execution_count": null,
      "outputs": [
        {
          "output_type": "stream",
          "name": "stdout",
          "text": [
            "139792404146960\n",
            "139792404144272\n",
            "139792404147856\n",
            "139792404146640\n",
            "김철수\n",
            "박영희\n"
          ]
        }
      ]
    },
    {
      "cell_type": "code",
      "source": [
        "class Student: # 클래스 안의 영억 : 필드 라고 한다\n",
        "  def show(self):\n",
        "    print('---학생정보---')\n",
        "    print('이름 : ', self.name)\n",
        "    print('나이 : ', self.age)\n",
        "\n",
        "s1 = Student()\n",
        "s2 = Student()\n",
        "\n",
        "s1.name = '김철수'\n",
        "s1.age = 30\n",
        "\n",
        "s2.name = '박영희'\n",
        "s2.age = 10\n",
        "\n",
        "s1.show()\n",
        "s2.show()\n",
        "\n",
        "# print('---학생정보---')\n",
        "# print('이름 : ', s1.name)\n",
        "# print('나이 : ', s1.age)\n",
        "\n",
        "# print('---학생정보---')\n",
        "# print('이름 : ', s2.name)\n",
        "# print('나이 : ', s2.age)\n",
        "# s1.show()\n",
        "# print(id(s1))"
      ],
      "metadata": {
        "colab": {
          "base_uri": "https://localhost:8080/"
        },
        "id": "l1ZgnmxMGEhm",
        "outputId": "f015fef1-92e7-43be-bacb-2af410ed726b"
      },
      "execution_count": null,
      "outputs": [
        {
          "output_type": "stream",
          "name": "stdout",
          "text": [
            "---학생정보---\n",
            "이름 :  김철수\n",
            "나이 :  30\n",
            "---학생정보---\n",
            "이름 :  박영희\n",
            "나이 :  10\n"
          ]
        }
      ]
    }
  ]
}