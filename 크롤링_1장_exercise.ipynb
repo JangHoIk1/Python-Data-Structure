{
  "nbformat": 4,
  "nbformat_minor": 0,
  "metadata": {
    "colab": {
      "name": "크롤링_1장_exercise.ipynb",
      "provenance": [],
      "collapsed_sections": [],
      "include_colab_link": true
    },
    "kernelspec": {
      "name": "python3",
      "display_name": "Python 3"
    }
  },
  "cells": [
    {
      "cell_type": "markdown",
      "metadata": {
        "id": "view-in-github",
        "colab_type": "text"
      },
      "source": [
        "<a href=\"https://colab.research.google.com/github/JangHoIk1/Python-Data-Structure/blob/main/%ED%81%AC%EB%A1%A4%EB%A7%81_1%EC%9E%A5_exercise.ipynb\" target=\"_parent\"><img src=\"https://colab.research.google.com/assets/colab-badge.svg\" alt=\"Open In Colab\"/></a>"
      ]
    },
    {
      "cell_type": "markdown",
      "source": [
        "# **크롤링**"
      ],
      "metadata": {
        "id": "GBONNBvAN2uU"
      }
    },
    {
      "cell_type": "markdown",
      "metadata": {
        "id": "IN56YR13m3r6"
      },
      "source": [
        "# 1.웹페이지 요청/ 파싱하기\n",
        "  \n"
      ]
    },
    {
      "cell_type": "markdown",
      "source": [
        "##1)페이지 요청하기"
      ],
      "metadata": {
        "id": "O3-BrVi8Tk_r"
      }
    },
    {
      "cell_type": "code",
      "source": [
        "import requests\n",
        "\n",
        "url = 'https://example.com/'\n",
        "\n",
        "response = requests.get(url)\n",
        "print(response)"
      ],
      "metadata": {
        "id": "kTXduj1DHUYU",
        "colab": {
          "base_uri": "https://localhost:8080/"
        },
        "outputId": "ea8aface-6550-4a62-df4a-25c77079cf5e"
      },
      "execution_count": null,
      "outputs": [
        {
          "output_type": "stream",
          "name": "stdout",
          "text": [
            "<Response [200]>\n"
          ]
        }
      ]
    },
    {
      "cell_type": "code",
      "source": [
        "\n",
        "\n"
      ],
      "metadata": {
        "id": "d9sFwmvlaASq"
      },
      "execution_count": null,
      "outputs": []
    },
    {
      "cell_type": "markdown",
      "source": [
        "[Q] URL 주소로 웹페이지를 요청할 때 사용하는 메소드는? "
      ],
      "metadata": {
        "id": "_OLGqoxui2po"
      }
    },
    {
      "cell_type": "markdown",
      "metadata": {
        "id": "vZOut6kZZJXT"
      },
      "source": [
        "## 2)데이터 추출하기 1\n",
        "- BeautifulSoup : HTML 문서를 탐색해서 원하는 부분만 쉽게 뽑아낼 수 있는 파이썬 라이브러리\n",
        "- https://www.crummy.com/software/BeautifulSoup/bs4/doc/"
      ]
    },
    {
      "cell_type": "code",
      "metadata": {
        "id": "RTA2fGpDZD81"
      },
      "source": [
        "# html문을 작성하여 파싱하고 데이터를 추출하는 연습을 해봅시다\n",
        "html = '''\n",
        "<!doctype html>\n",
        "<html>\n",
        "    <head>\n",
        "        <meta charset=\"utf-8\">\n",
        "        <title>이것은 html예제입니다</title>\n",
        "    </head>\n",
        "    <body>\n",
        "        <h1>New book Information</h1>\n",
        "        <img src='https://encrypted-tbn0.gstatic.com/images?q=tbn:ANd9GcS0viO8Xa1JqS_OSsHYlxdaMimrAXUnfIkYaA&usqp=CAU'/>\n",
        "        <p id =\"book_title\">재미있는 파이썬</p>\n",
        "        <p id=\"author\">파이썬</p>;\n",
        "        <p id=\"company\">파이출판사</p>\n",
        "        <p id=\"year\">2022</p>\n",
        "        <a href='http://google.com'>more information...</a>\n",
        "        <h1>스테디셀러</h1>\n",
        "        <p id =\"book_title\">토지</p>\n",
        "        <p id=\"author\">박경리</p>\n",
        "        <p id =\"book_title\">태백산맥</p>\n",
        "        <p id=\"author\">조정래</p>\n",
        "    </body>\n",
        "</html> '''"
      ],
      "execution_count": null,
      "outputs": []
    },
    {
      "cell_type": "code",
      "metadata": {
        "id": "0A62KsE_hLoa",
        "colab": {
          "base_uri": "https://localhost:8080/"
        },
        "outputId": "0de3680e-63f5-48d4-c81d-4a404514e624"
      },
      "source": [
        "from bs4 import BeautifulSoup\n",
        "soup = BeautifulSoup(html,'lxml')\n",
        "\n",
        "\n"
      ],
      "execution_count": null,
      "outputs": [
        {
          "output_type": "execute_result",
          "data": {
            "text/plain": [
              "<!DOCTYPE html>\n",
              "<html>\n",
              "<head>\n",
              "<meta charset=\"utf-8\"/>\n",
              "<title>이것은 html예제입니다</title>\n",
              "</head>\n",
              "<body>\n",
              "<h1>New book Information</h1>\n",
              "<img src=\"https://encrypted-tbn0.gstatic.com/images?q=tbn:ANd9GcS0viO8Xa1JqS_OSsHYlxdaMimrAXUnfIkYaA&amp;usqp=CAU\"/>\n",
              "<p id=\"book_title\">재미있는 파이썬</p>\n",
              "<p id=\"author\">파이썬</p>;\n",
              "        <p id=\"company\">파이출판사</p>\n",
              "<p id=\"year\">2022</p>\n",
              "<a href=\"http://google.com\">more information...</a>\n",
              "<h1>스테디셀러</h1>\n",
              "<p id=\"book_title\">토지</p>\n",
              "<p id=\"author\">박경리</p>\n",
              "<p id=\"book_title\">태백산맥</p>\n",
              "<p id=\"author\">조정래</p>\n",
              "</body>\n",
              "</html> "
            ]
          },
          "metadata": {},
          "execution_count": 5
        }
      ]
    },
    {
      "cell_type": "markdown",
      "source": [
        "- select 메소드로 tag 객체 찾기"
      ],
      "metadata": {
        "id": "iXL5WIWEcpan"
      }
    },
    {
      "cell_type": "code",
      "source": [
        "# select 리스트의 형태로 들어옴\n",
        "soup.select('h1')"
      ],
      "metadata": {
        "id": "Lb7u6R8x25qJ",
        "colab": {
          "base_uri": "https://localhost:8080/"
        },
        "outputId": "bab6791c-49b0-4415-e6a6-2ecbf0f00878"
      },
      "execution_count": null,
      "outputs": [
        {
          "output_type": "execute_result",
          "data": {
            "text/plain": [
              "[<h1>New book Information</h1>, <h1>스테디셀러</h1>]"
            ]
          },
          "metadata": {},
          "execution_count": 6
        }
      ]
    },
    {
      "cell_type": "code",
      "source": [
        "a = soup.select('h1')\n",
        "type(a)\n",
        "a[1]\n",
        "\n",
        "for h1 in a:\n",
        "  print(h1.text) # get_text(), text 둘다 사용 가능"
      ],
      "metadata": {
        "id": "XGFRFAEz25mG",
        "colab": {
          "base_uri": "https://localhost:8080/"
        },
        "outputId": "3b1c0e55-c7b0-407c-9c55-75fe12ea9a1b"
      },
      "execution_count": null,
      "outputs": [
        {
          "output_type": "stream",
          "name": "stdout",
          "text": [
            "New book Information\n",
            "스테디셀러\n"
          ]
        }
      ]
    },
    {
      "cell_type": "code",
      "source": [
        "# select id 태그값으로 찾기\n",
        "soup.select('p#book_title')"
      ],
      "metadata": {
        "id": "KVDGfOje25ik",
        "colab": {
          "base_uri": "https://localhost:8080/"
        },
        "outputId": "3a3834d6-8e63-46c0-e4d1-c924dc3063c2"
      },
      "execution_count": null,
      "outputs": [
        {
          "output_type": "execute_result",
          "data": {
            "text/plain": [
              "[<p id=\"book_title\">재미있는 파이썬</p>,\n",
              " <p id=\"book_title\">토지</p>,\n",
              " <p id=\"book_title\">태백산맥</p>]"
            ]
          },
          "metadata": {},
          "execution_count": 15
        }
      ]
    },
    {
      "cell_type": "markdown",
      "source": [
        ""
      ],
      "metadata": {
        "id": "RDK-__cemEgO"
      }
    },
    {
      "cell_type": "code",
      "source": [
        "# select (상위 하위)\n",
        "soup.select('body p') # body안에 모든 p를 찾게 됨\n",
        "\n",
        "soup.select('body > p') # body의 자식 p를 찾는 방법 / 띄어쓰기 주의"
      ],
      "metadata": {
        "id": "4F6F9sSH25fe"
      },
      "execution_count": null,
      "outputs": []
    },
    {
      "cell_type": "markdown",
      "source": [
        "## 3)데이터 추출하기 2"
      ],
      "metadata": {
        "id": "jHUphHG8qYVF"
      }
    },
    {
      "cell_type": "code",
      "metadata": {
        "id": "2xFosmNqigZM"
      },
      "source": [
        "html2 = '''\n",
        "<!doctype html>\n",
        "<html>\n",
        "    <head>\n",
        "        <meta charset=\"utf-8\">\n",
        "        <title>유용한 사이트 모음</title>\n",
        "    </head>\n",
        "    <body>\n",
        "        <p id=\"title\">자주가는 사이트 모음</p>\n",
        "        <p id=\"contents\">이 곳은 자주가는 사이트를 모아둔 곳입니다</p>\n",
        "        <a class = \"search\" href='https://www.google.com'  id=\"google\">구글</a>\n",
        "        <a class = \"portal\" href='https://www.naver.com'  id=\"naver\">네이버</a>\n",
        "        <a class = \"portal\" href='https://www.daum.com'  id=\"daum\">다음</a>\n",
        "    </body>\n",
        "</html> '''\n",
        "soup2 = BeautifulSoup(html2, 'lxml')"
      ],
      "execution_count": null,
      "outputs": []
    },
    {
      "cell_type": "code",
      "source": [
        "soup2.select('a')"
      ],
      "metadata": {
        "id": "QszPPJIt2_xo",
        "colab": {
          "base_uri": "https://localhost:8080/"
        },
        "outputId": "9d8b9a4c-b5b9-4b79-aa56-1780e642dea3"
      },
      "execution_count": null,
      "outputs": [
        {
          "output_type": "execute_result",
          "data": {
            "text/plain": [
              "[<a class=\"search\" href=\"https://www.google.com\" id=\"google\">구글</a>,\n",
              " <a class=\"portal\" href=\"https://www.naver.com\" id=\"naver\">네이버</a>,\n",
              " <a class=\"portal\" href=\"https://www.daum.com\" id=\"daum\">다음</a>]"
            ]
          },
          "metadata": {},
          "execution_count": 17
        }
      ]
    },
    {
      "cell_type": "code",
      "source": [
        "# select . 은 클래스명 \n",
        "soup2.select('a.portal')"
      ],
      "metadata": {
        "id": "Xqd2zy1P2_tA",
        "colab": {
          "base_uri": "https://localhost:8080/"
        },
        "outputId": "81931361-5a49-445b-b7bf-7769dd090f1e"
      },
      "execution_count": null,
      "outputs": [
        {
          "output_type": "execute_result",
          "data": {
            "text/plain": [
              "[<a class=\"portal\" href=\"https://www.naver.com\" id=\"naver\">네이버</a>,\n",
              " <a class=\"portal\" href=\"https://www.daum.com\" id=\"daum\">다음</a>]"
            ]
          },
          "metadata": {},
          "execution_count": 18
        }
      ]
    },
    {
      "cell_type": "code",
      "source": [
        "alist = soup2.select('a')\n",
        "\n",
        "for a in alist:\n",
        "  print(a.text, a['href'])\n"
      ],
      "metadata": {
        "id": "hnS_3Y-r2_ph",
        "colab": {
          "base_uri": "https://localhost:8080/"
        },
        "outputId": "16f9d17a-886b-480b-ff25-3bccd59f99c5"
      },
      "execution_count": null,
      "outputs": [
        {
          "output_type": "stream",
          "name": "stdout",
          "text": [
            "구글 https://www.google.com\n",
            "네이버 https://www.naver.com\n",
            "다음 https://www.daum.com\n"
          ]
        }
      ]
    },
    {
      "cell_type": "code",
      "source": [
        ""
      ],
      "metadata": {
        "id": "5dAj9grl2_mS"
      },
      "execution_count": null,
      "outputs": []
    },
    {
      "cell_type": "code",
      "source": [
        "# select : list 로 출력\n",
        "# select_one : 조건에 맞는 하나만 넘겨줌\n",
        "soup2.select_one('a.portal')"
      ],
      "metadata": {
        "id": "THGkPMlO2_jT",
        "colab": {
          "base_uri": "https://localhost:8080/"
        },
        "outputId": "feacb799-3b2a-410d-c438-653c9a6cdaf3"
      },
      "execution_count": null,
      "outputs": [
        {
          "output_type": "execute_result",
          "data": {
            "text/plain": [
              "<a class=\"portal\" href=\"https://www.naver.com\" id=\"naver\">네이버</a>"
            ]
          },
          "metadata": {},
          "execution_count": 22
        }
      ]
    },
    {
      "cell_type": "code",
      "source": [
        "# find :\n",
        "# find_all : \n",
        "\n",
        "print(soup2.find('a',{\"class\":\"portal\"}))\n",
        "print(soup2.find_all('a',{\"class\":\"portal\"}))"
      ],
      "metadata": {
        "id": "N7OGtM5_2_gN",
        "colab": {
          "base_uri": "https://localhost:8080/"
        },
        "outputId": "aa8eeb2b-4180-4c43-a48a-8de65d4b7f6a"
      },
      "execution_count": null,
      "outputs": [
        {
          "output_type": "stream",
          "name": "stdout",
          "text": [
            "<a class=\"portal\" href=\"https://www.naver.com\" id=\"naver\">네이버</a>\n",
            "[<a class=\"portal\" href=\"https://www.naver.com\" id=\"naver\">네이버</a>, <a class=\"portal\" href=\"https://www.daum.com\" id=\"daum\">다음</a>]\n"
          ]
        }
      ]
    },
    {
      "cell_type": "code",
      "source": [
        "# [실습] 아래와 같이 출력하세요\n",
        "\n",
        "alist = soup2.select('a')\n",
        "for a in alist:\n",
        "  print(a.text, a['href'])\n"
      ],
      "metadata": {
        "colab": {
          "base_uri": "https://localhost:8080/"
        },
        "id": "bwmQGTsZo6cz",
        "outputId": "98ca02f2-90d0-4fe9-8c37-8659ed580352"
      },
      "execution_count": null,
      "outputs": [
        {
          "output_type": "stream",
          "name": "stdout",
          "text": [
            "구글 https://www.google.com\n",
            "네이버 https://www.naver.com\n",
            "다음 https://www.daum.com\n"
          ]
        }
      ]
    },
    {
      "cell_type": "markdown",
      "source": [
        "# 2.네이버에서 메뉴글자 수집하기\n",
        "- https://www.naver.com"
      ],
      "metadata": {
        "id": "32G-rZWjMkBK"
      }
    },
    {
      "cell_type": "code",
      "source": [
        "import requests\n",
        "from bs4 import BeautifulSoup\n",
        "\n",
        "resp = requests.get('https://www.naver.com')\n",
        "#print(resp)\n",
        "soup = BeautifulSoup(resp.text,'lxml')\n",
        "menus = soup.select('a.nav')\n",
        "for menu in menus:\n",
        "  print(menu.text,menu['href'])"
      ],
      "metadata": {
        "id": "4m3ErAQBEzb_",
        "colab": {
          "base_uri": "https://localhost:8080/"
        },
        "outputId": "aacd33fb-a292-4482-e5b5-83361470ee09"
      },
      "execution_count": null,
      "outputs": [
        {
          "output_type": "stream",
          "name": "stdout",
          "text": [
            "메일 https://mail.naver.com/\n",
            "카페 https://section.cafe.naver.com/\n",
            "블로그 https://section.blog.naver.com/\n",
            "지식iN https://kin.naver.com/\n",
            "쇼핑 https://shopping.naver.com/\n",
            "쇼핑LIVE https://shoppinglive.naver.com/home\n",
            "Pay https://order.pay.naver.com/home\n",
            "TV https://tv.naver.com/\n",
            "사전 https://dict.naver.com/\n",
            "뉴스 https://news.naver.com/\n",
            "증권 https://finance.naver.com/\n",
            "부동산 https://land.naver.com/\n",
            "지도 https://map.naver.com/\n",
            "VIBE https://vibe.naver.com/\n",
            "책 https://book.naver.com/\n",
            "웹툰 https://comic.naver.com/\n"
          ]
        }
      ]
    },
    {
      "cell_type": "code",
      "source": [
        ""
      ],
      "metadata": {
        "id": "fZCVUNICEzYv"
      },
      "execution_count": null,
      "outputs": []
    },
    {
      "cell_type": "code",
      "source": [
        ""
      ],
      "metadata": {
        "id": "iQt90az8EzVh"
      },
      "execution_count": null,
      "outputs": []
    },
    {
      "cell_type": "markdown",
      "source": [
        "## [실습] 메뉴리스트 출력하기"
      ],
      "metadata": {
        "id": "t9TID9WnZRez"
      }
    },
    {
      "cell_type": "code",
      "source": [
        "# [실습] 메뉴리스트 출력하기\n",
        "\n",
        "\n"
      ],
      "metadata": {
        "id": "8SZs40s9MfSZ"
      },
      "execution_count": null,
      "outputs": []
    },
    {
      "cell_type": "markdown",
      "source": [
        "## [실습] link 정보도 출력하기\n",
        "\n",
        "예) 메일 https://mail.naver.com\n",
        "\n",
        "까페 https://section.cafe.naver.com"
      ],
      "metadata": {
        "id": "FWx0aUB5rsTZ"
      }
    },
    {
      "cell_type": "code",
      "source": [
        "# [실습] link 정보도 출력하기\n",
        "\n",
        "\n"
      ],
      "metadata": {
        "id": "UBaOBEy7sI7z"
      },
      "execution_count": null,
      "outputs": []
    },
    {
      "cell_type": "markdown",
      "source": [
        "## [실습] 뉴스스탠드의 링크정보 출력하기"
      ],
      "metadata": {
        "id": "uNM6q1avsiad"
      }
    },
    {
      "cell_type": "code",
      "source": [
        "import requests\n",
        "from bs4 import BeautifulSoup\n",
        "\n",
        "resp = requests.get('https://www.naver.com/')\n",
        "\n",
        "soup = BeautifulSoup(resp.text,'lxml')\n",
        "news = soup.select('a.link_newsstand')\n",
        "for scrap in news:\n",
        "  print(scrap.text, scrap['href'])\n",
        "# news = soup.select_one('a.link_newsstand') 로 해도 가능 / class : link_newsstand 인게 하나인지 모르니! ctrl + f 해서 찾아봐도됨\n",
        "  \n"
      ],
      "metadata": {
        "id": "4OUgVBvrqVes",
        "colab": {
          "base_uri": "https://localhost:8080/"
        },
        "outputId": "024e8f71-e5ed-4086-dec9-6862ea383702"
      },
      "execution_count": null,
      "outputs": [
        {
          "output_type": "stream",
          "name": "stdout",
          "text": [
            "뉴스스탠드 http://newsstand.naver.com/\n"
          ]
        }
      ]
    },
    {
      "cell_type": "markdown",
      "source": [
        "#3.코스피 거래상위 종목 수집\n",
        "- 네이버>증권>국내증시>거래상위\n",
        "- https://finance.naver.com/sise/sise_quant.naver\n",
        "- 출력포멧 : 거래상위 100개의 **'종목명' /'현재가' /'거래량**"
      ],
      "metadata": {
        "id": "c9YSffQkRWle"
      }
    },
    {
      "cell_type": "markdown",
      "source": [
        "## 1) 종목명 가져오기"
      ],
      "metadata": {
        "id": "qoRKrrvpeHIX"
      }
    },
    {
      "cell_type": "code",
      "source": [
        "import requests\n",
        "from bs4 import BeautifulSoup\n",
        "\n",
        "resp = requests.get('https://finance.naver.com/sise/sise_quant.naver')\n",
        "\n",
        "soup = BeautifulSoup(resp.text,'lxml')\n",
        "\n",
        "title = soup.select('a.tltle')\n",
        "\n",
        "for name in title:\n",
        "  print(name.tltle)"
      ],
      "metadata": {
        "id": "CWiCvm-K3VFS",
        "colab": {
          "base_uri": "https://localhost:8080/"
        },
        "outputId": "82e935ac-b8b3-4608-ff6f-fc7753136c0b"
      },
      "execution_count": null,
      "outputs": [
        {
          "output_type": "stream",
          "name": "stdout",
          "text": [
            "['KODEX 200선물인버스2X', 'KODEX 코스닥150선물인버스', 'KODEX 레버리지', 'KODEX 인버스', 'KODEX 코스닥150레버리지', '동양철관', '삼성 인버스 2X WTI원유 선물 ETN', '삼성전자', 'TIGER 200선물인버스2X', '삼부토건', '대한전선', '쌍방울', 'KODEX 코스닥150', 'TIGER 차이나전기차SOLACTIVE', '신한 인버스 2X WTI원유 선물 ETN(H)', 'TRUE 인버스 2X 천연가스 선물 ETN(H)', '혜인', '두산에너빌리티', '한국종합기술', 'KODEX 200', '신한 인버스 2X 천연가스 선물 ETN(H)', 'GS글로벌', '수산중공업', '신한 인버스 2X 천연가스 선물 ETN', '범양건영', 'SK바이오사이언스', '한신기계', 'KODEX WTI원유선물인버스(H)', 'SK하이닉스', 'KODEX 단기채권', '다스코', '메타랩스', 'TIGER 원유선물인버스(H)', '후성', '사조동아원', '일진전기', 'TYM', '서울식품', '삼성중공업', '한국항공우주', 'KODEX 2차전지산업', 'KBSTAR KIS단기종합채권(AA-이상)액티브', '현대약품', '동일고무벨트', '국보', '우진', 'TIGER 2차전지테마', '한창', '우리금융지주', '한화투자증권', '카카오', '씨아이테크', '우리종금', '도화엔지니어링', '에이프로젠 MED', 'SH에너지화학', 'HMM', '페이퍼코리아', '신일전자', '일성건설', '고려산업', 'LG디스플레이', '퍼스텍', '카카오뱅크', '부산주공', 'TIGER 코스닥150선물인버스', 'TIGER 200 중공업', '신송홀딩스', 'TIGER 200선물레버리지', '일동제약', 'KEC', 'LG전자', '코스모신소재', '한국전력', '신성이엔지', 'HLB글로벌', '아남전자', '이아이디', 'TIGER 차이나항셍테크', '대우건설', '현대차', '국동', 'TIGER 미국필라델피아반도체나스닥', '일진홀딩스', 'TIGER 미국S&P500선물인버스(H)', '국제약품', '신한지주', 'TIGER KRX2차전지K-뉴딜', '와이투솔루션', 'TIGER 미국나스닥100레버리지(합성)', '까뮤이앤씨', '삼성엔지니어링', '한화솔루션', '현대두산인프라코어', '현대로템', 'GS건설', '한국주철관', '금호에이치티', '기아', 'KODEX 은행']\n"
          ]
        }
      ]
    },
    {
      "cell_type": "code",
      "source": [
        ""
      ],
      "metadata": {
        "id": "IzczwtFP3VCC"
      },
      "execution_count": null,
      "outputs": []
    },
    {
      "cell_type": "code",
      "source": [
        ""
      ],
      "metadata": {
        "id": "4R0LK3ME3U-a"
      },
      "execution_count": null,
      "outputs": []
    },
    {
      "cell_type": "code",
      "source": [
        "# list에 담기\n",
        "\n",
        "titleList = []   #종목명\n",
        "\n",
        " \n",
        "for name in title:\n",
        "  titleList.append(name.text)\n"
      ],
      "metadata": {
        "id": "XJZjfvjBaxCy"
      },
      "execution_count": 80,
      "outputs": []
    },
    {
      "cell_type": "markdown",
      "source": [
        "## 2) 현재가 가져오기"
      ],
      "metadata": {
        "id": "k-r0SHVoeefm"
      }
    },
    {
      "cell_type": "code",
      "source": [
        "# 현재가 가져오기\n",
        "\n",
        "priceList = []   #현재가\n",
        "\n",
        "price = soup.select('td.number')\n",
        "for idx, value in enumerate(price):\n",
        "  if idx % 10 == 0:\n",
        "    priceList.append(value.text)\n",
        "\n",
        "len(priceList)\n"
      ],
      "metadata": {
        "id": "zUZxfw4dbFMu",
        "colab": {
          "base_uri": "https://localhost:8080/"
        },
        "outputId": "eaa69a2f-8981-45c2-a167-dd1b41821c4e"
      },
      "execution_count": null,
      "outputs": [
        {
          "output_type": "execute_result",
          "data": {
            "text/plain": [
              "100"
            ]
          },
          "metadata": {},
          "execution_count": 68
        }
      ]
    },
    {
      "cell_type": "markdown",
      "source": [
        "## [실습] 거래량 가져오기"
      ],
      "metadata": {
        "id": "evvGTOsCeleO"
      }
    },
    {
      "cell_type": "code",
      "source": [
        "# 거래량 가져오기\n",
        "\n",
        "volumnList = []  #거래량\n",
        "\n",
        "price = soup.select('td.number')\n",
        "for idx, value in enumerate(price):\n",
        "  if idx%10 == 3:\n",
        "    volumnList.append(value.text)\n",
        "\n",
        "print(volumnList)\n",
        "\n",
        "\n",
        "\n"
      ],
      "metadata": {
        "id": "z-roYqP4byso",
        "colab": {
          "base_uri": "https://localhost:8080/"
        },
        "outputId": "88e70e29-0898-42de-b456-bba44449b8e9"
      },
      "execution_count": null,
      "outputs": [
        {
          "output_type": "stream",
          "name": "stdout",
          "text": [
            "['203,486,175', '50,189,414', '34,162,560', '30,051,404', '27,925,267', '20,761,309', '19,180,647', '11,270,380', '9,791,530', '9,305,962', '8,119,826', '6,824,552', '6,648,971', '6,206,931', '5,779,064', '5,536,318', '4,501,630', '4,419,308', '4,164,171', '4,112,429', '3,840,849', '3,762,468', '3,559,385', '3,513,572', '3,474,679', '3,222,661', '3,196,410', '3,067,929', '2,979,913', '2,844,562', '2,641,666', '2,365,636', '2,353,374', '2,328,840', '2,282,788', '2,251,998', '2,251,443', '2,250,143', '2,249,357', '2,151,811', '2,048,857', '2,040,717', '2,037,977', '2,026,035', '1,961,046', '1,918,043', '1,904,824', '1,877,384', '1,876,869', '1,852,307', '1,779,832', '1,778,288', '1,753,185', '1,742,590', '1,724,783', '1,688,643', '1,621,237', '1,610,582', '1,602,371', '1,526,008', '1,504,448', '1,468,583', '1,409,820', '1,384,549', '1,373,292', '1,250,620', '1,201,988', '1,190,815', '1,182,932', '1,181,778', '1,180,611', '1,165,988', '1,128,219', '1,117,914', '1,109,233', '1,093,835', '1,061,865', '1,054,816', '1,015,762', '973,568', '956,541', '927,331', '918,800', '916,851', '907,189', '902,717', '886,565', '885,102', '878,400', '870,783', '870,216', '870,054', '866,466', '861,191', '846,228', '840,834', '821,528', '815,964', '803,225', '790,117']\n"
          ]
        }
      ]
    },
    {
      "cell_type": "code",
      "source": [
        "# 다 합치면..\n",
        "\n",
        "\n",
        "resp = requests.get('https://finance.naver.com/sise/sise_quant.naver')\n",
        "soup = BeautifulSoup(resp.text,'lxml')\n",
        "title = soup.select('a.tltle')\n",
        "\n",
        "\n",
        "titleList = []   #종목명\n",
        "priceList = []   #현재가\n",
        "volumnList = []  #거래량\n",
        "\n",
        "#print(price)\n",
        "for  i in range(len(title)):\n",
        "    titleList.append(title[i].text)\n",
        "\n",
        "#현재가와 거래량만 따로 리스트에 저장\n",
        "values = soup.select('td.number')  #거래상위 데이터 테이블 값\n",
        "for idx, value in enumerate(values):\n",
        "    if idx % 10 == 0:\n",
        "        priceList.append(value.text)\n",
        "    if idx % 10 == 3:\n",
        "        volumnList.append(value.text) \n",
        "\n",
        "import pandas as pd\n",
        "data = {\"종목명\":titleList, \"현재가\" : priceList, \"거래량\":volumnList}\n",
        "\n",
        "kospi = pd.DataFrame(data) # data로 DataFrame 을 만들어줌\n",
        "kospi.to_csv(\"상위100.csv\")\n"
      ],
      "metadata": {
        "id": "AB0iJ6O3suwJ"
      },
      "execution_count": 81,
      "outputs": []
    },
    {
      "cell_type": "code",
      "source": [
        "#리스트를 사용하여 출력하는 방법\n",
        "for no, (title, price, vol) in enumerate(zip(titleList, priceList, volumnList ),start=1):\n",
        "    print(f'{no}. {title} / {price} / {vol}' )"
      ],
      "metadata": {
        "id": "Ev2Xvw-PGDar"
      },
      "execution_count": null,
      "outputs": []
    },
    {
      "cell_type": "markdown",
      "metadata": {
        "id": "p7KlcBl4G6Pd"
      },
      "source": [
        "## 3) openpyxl 활용한 엑셀파일 생성\n",
        "* openpyxl 라이브러리 활용\n",
        "  -  Excel 파일을 읽고 쓰기를 Python으로 할 수 있는 모듈\n",
        "  - 엑셀 파일 읽고, 저장 모두 가능"
      ]
    },
    {
      "cell_type": "code",
      "metadata": {
        "id": "O0FKT9_1G6Pd"
      },
      "source": [
        "import openpyxl \n",
        "wb = openpyxl.Workbook() \n",
        "sheet = wb.active\n",
        "\n",
        "sheet.append([\"순위\", \"종목명\", \"현재가\",\"거래량\"])\n",
        "\n",
        "for no, (title, price, vol) in enumerate(zip(titleList, priceList, volumnList ),start=1):\n",
        "    print(f'{no}, {title} / {price} / {vol}' )\n",
        "    sheet.append([no, title, price, vol])\n",
        "\n",
        "wb.save(\"코스피거래상위종목수집.xlsx\")\n",
        "\n"
      ],
      "execution_count": null,
      "outputs": []
    },
    {
      "cell_type": "markdown",
      "source": [
        "##4) pandas 활용한 엑셀파일 생성"
      ],
      "metadata": {
        "id": "ZtIQREz0GBEM"
      }
    },
    {
      "cell_type": "code",
      "source": [
        "import pandas as pd\n",
        "\n",
        "#Dataframe\n",
        "#dict\n",
        "\n",
        "data = {\"종목명\":titleList, \"현재가\" : priceList, \"거래량\":volumnList}\n",
        "kospi = pd.DataFrame(data) # data로 DataFrame 을 만들어줌\n",
        "kospi.to_csv(\"상위100.csv\")\n",
        "\n"
      ],
      "metadata": {
        "id": "SHuY4Tg-ClGB"
      },
      "execution_count": 79,
      "outputs": []
    },
    {
      "cell_type": "code",
      "source": [
        "\n",
        " #euc-kr이 안되는 경우 \n",
        " #encoding = \"\"\n",
        " #encoding = \"utf-8-sig\""
      ],
      "metadata": {
        "id": "VQCyKiQdIzBY"
      },
      "execution_count": null,
      "outputs": []
    },
    {
      "cell_type": "code",
      "source": [
        "from google.colab import drive\n",
        "drive.mount('/content/drive')"
      ],
      "metadata": {
        "id": "34Zw7NAF3vz7"
      },
      "execution_count": null,
      "outputs": []
    },
    {
      "cell_type": "markdown",
      "metadata": {
        "id": "kZVqopBLSIj5"
      },
      "source": [
        "# [실습] 네이버주식사이트에서 인기 검색종목 엑셀 저장\n",
        "- 국내증시 : 오른쪽에 인기검색종목 가져오기\n",
        "- 삼성전자 우클릭 > 상위로 올라가 box\n",
        "- 출력포멧 : '종목명' '현재가'"
      ]
    },
    {
      "cell_type": "markdown",
      "source": [
        "- https://finance.naver.com/sise/"
      ],
      "metadata": {
        "id": "OgPZxW_QEp6P"
      }
    },
    {
      "cell_type": "code",
      "source": [
        "# 상위 종목 가져오기\n",
        "\n",
        "import requests\n",
        "from bs4 import BeautifulSoup\n",
        "import pandas as pd\n",
        "\n",
        "url = 'https://finance.naver.com/sise/'\n",
        "res = requests.get(url)\n",
        "soup = BeautifulSoup(???????????)\n",
        "\n",
        "titleList = []   #종목명\n",
        "priceList = []   #현재가\n",
        "\n",
        "products = soup.select('?????????????????')\n",
        "print(products)\n",
        "\n",
        "# 종목명, 현재가 가져오기\n",
        "for idx, product in enumerate(products):\n",
        "    titleList.append(product.select_one('??????').get_text())\n",
        "    priceList.append(product.select_one('??????').get_text())\n",
        "\n",
        "# 엑셀 파일에 저장\n",
        "\n",
        "\n"
      ],
      "metadata": {
        "id": "NanvNNOfFv05"
      },
      "execution_count": null,
      "outputs": []
    },
    {
      "cell_type": "markdown",
      "metadata": {
        "id": "ZEq2rtq673AA"
      },
      "source": [
        "#4.벅스차트 순위데이터 가져오기\n",
        "- 출력포멧 : 순위,곡,아티스트"
      ]
    },
    {
      "cell_type": "code",
      "source": [
        "import requests as req\n",
        "from bs4 import BeautifulSoup as bs\n",
        "import pandas as pd\n",
        "\n",
        "res = req.get(\"https://music.bugs.co.kr/chart\")\n",
        "soup = bs(res.text, 'lxml')\n",
        "soup"
      ],
      "metadata": {
        "id": "SbRB1CuuMZU0"
      },
      "execution_count": null,
      "outputs": []
    },
    {
      "cell_type": "code",
      "source": [
        "#순위 \n",
        "rank = soup.select(\"?????????????\")  #순위\n",
        "rank"
      ],
      "metadata": {
        "id": "qD3WY7IfNrSO"
      },
      "execution_count": null,
      "outputs": []
    },
    {
      "cell_type": "code",
      "source": [
        "# 곡명\n",
        "title = soup.select(\"????????????\")  # 곡명\n",
        "title"
      ],
      "metadata": {
        "id": "GhoHNBzAsykB"
      },
      "execution_count": null,
      "outputs": []
    },
    {
      "cell_type": "code",
      "source": [
        "# 가수명\n",
        "artist = soup.select(\"????????????\")   # 가수명\n",
        "artist"
      ],
      "metadata": {
        "id": "zPzOEQaEsz4h"
      },
      "execution_count": null,
      "outputs": []
    },
    {
      "cell_type": "code",
      "source": [
        "#수집해온 데이터의 길이를 확인\n",
        "print(len(rank))\n",
        "print(len(title))\n",
        "print(len(artist))  "
      ],
      "metadata": {
        "id": "BYf7_qF1P-Ir"
      },
      "execution_count": null,
      "outputs": []
    },
    {
      "cell_type": "code",
      "source": [
        "# a 태그에서 첫번째만 가져오기 nth-of-type\n",
        "artist = soup.select(\"p.artist > a:nth-of-type(1)\")\n",
        "len(artist)\n"
      ],
      "metadata": {
        "id": "boeh7qBWRDJs"
      },
      "execution_count": null,
      "outputs": []
    },
    {
      "cell_type": "code",
      "source": [
        "rankList=[]\n",
        "titleList=[]\n",
        "artistList=[]\n",
        "\n",
        "# [실습] for 문 작성\n",
        "\n",
        "\n"
      ],
      "metadata": {
        "id": "ZAO4q9XXSApR"
      },
      "execution_count": null,
      "outputs": []
    },
    {
      "cell_type": "code",
      "source": [
        "#각 리스트의 값을 데이터프레임에 저장하기위해 딕셔너리 구조로 변경\n",
        "\n",
        "data_dic = {\"순위\":rankList, '제목':titleList, '가수이름':artistList}\n",
        "bugs_rank = pd.DataFrame(data_dic)\n",
        "bugs_rank"
      ],
      "metadata": {
        "id": "om8FyoWKSfLx"
      },
      "execution_count": null,
      "outputs": []
    },
    {
      "cell_type": "code",
      "source": [
        "#csv파일로 저장\n",
        "bugs_rank.to_csv('벅스차트순위.csv', encoding='euc-kr', index = False)"
      ],
      "metadata": {
        "id": "Ivnswj-xTFax"
      },
      "execution_count": null,
      "outputs": []
    },
    {
      "cell_type": "markdown",
      "source": [
        "#5.영화 리뷰 수집"
      ],
      "metadata": {
        "id": "LmWY50Q0BZyw"
      }
    },
    {
      "cell_type": "markdown",
      "source": [
        "- https://movie.naver.com/movie/bi/mi/point.naver?code=192608"
      ],
      "metadata": {
        "id": "XmumzAATElqr"
      }
    },
    {
      "cell_type": "code",
      "source": [
        "#결과는 화면 맨 하단에 있는 리뷰 \n",
        "#다른 서버에 리뷰를 가져왔다고 볼수 있음\n",
        "#ctrl+f 로 iframe 찾기\n",
        "#src가 있는 iframe을 찾아서 복사해서 url만들기 ( 주소창에 .com이후는 지우고 src붙여넣기 )\n",
        "#url 다시 읽어오기"
      ],
      "metadata": {
        "id": "S7X95ThZCCEf"
      },
      "execution_count": null,
      "outputs": []
    },
    {
      "cell_type": "code",
      "source": [
        ""
      ],
      "metadata": {
        "id": "rxE30sne3i2X"
      },
      "execution_count": null,
      "outputs": []
    },
    {
      "cell_type": "code",
      "source": [
        ""
      ],
      "metadata": {
        "id": "A5znQOxT3izP"
      },
      "execution_count": null,
      "outputs": []
    },
    {
      "cell_type": "code",
      "source": [
        ""
      ],
      "metadata": {
        "id": "FEUJra5v3iwB"
      },
      "execution_count": null,
      "outputs": []
    },
    {
      "cell_type": "code",
      "source": [
        ""
      ],
      "metadata": {
        "id": "ntPeN2_l3isr"
      },
      "execution_count": null,
      "outputs": []
    },
    {
      "cell_type": "code",
      "source": [
        "#[실습] 1-10페이지까지 가져오기\n",
        " \n",
        "for i in range(1,11):\n",
        "    url = f'https://movie.naver.com//movie/bi/mi/pointWriteFormList.naver?code=192608&type=after&isActualPointWriteExecute=false&isMileageSubscriptionAlready=false&isMileageSubscriptionReject=false&page={i}'\n",
        "\n",
        "\n",
        "\n",
        "\n",
        "\n"
      ],
      "metadata": {
        "id": "gp_UtIM2K3dT"
      },
      "execution_count": null,
      "outputs": []
    },
    {
      "cell_type": "markdown",
      "source": [
        "#6.주식정보 (find 이용)\n"
      ],
      "metadata": {
        "id": "3yL_cybHWYhE"
      }
    },
    {
      "cell_type": "markdown",
      "source": [
        "- https://finance.naver.com/item/main.nhn?code=005930"
      ],
      "metadata": {
        "id": "j9nMk48iEWTz"
      }
    },
    {
      "cell_type": "code",
      "source": [
        "\n"
      ],
      "metadata": {
        "id": "dY94Kt0BWbu5"
      },
      "execution_count": null,
      "outputs": []
    },
    {
      "cell_type": "code",
      "source": [
        ""
      ],
      "metadata": {
        "id": "6l8Ts2mwWpYf"
      },
      "execution_count": null,
      "outputs": []
    }
  ]
}