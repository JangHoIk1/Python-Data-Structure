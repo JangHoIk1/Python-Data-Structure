{
  "nbformat": 4,
  "nbformat_minor": 0,
  "metadata": {
    "colab": {
      "name": "day02.ipynb",
      "provenance": [],
      "collapsed_sections": [],
      "include_colab_link": true
    },
    "kernelspec": {
      "name": "python3",
      "display_name": "Python 3"
    },
    "language_info": {
      "name": "python"
    }
  },
  "cells": [
    {
      "cell_type": "markdown",
      "metadata": {
        "id": "view-in-github",
        "colab_type": "text"
      },
      "source": [
        "<a href=\"https://colab.research.google.com/github/JangHoIk1/Python-Data-Structure/blob/main/day02.ipynb\" target=\"_parent\"><img src=\"https://colab.research.google.com/assets/colab-badge.svg\" alt=\"Open In Colab\"/></a>"
      ]
    },
    {
      "cell_type": "code",
      "execution_count": null,
      "metadata": {
        "id": "NEtP09hcgbdX"
      },
      "outputs": [],
      "source": [
        "class Student:\n",
        "  def __init__(self, name=None, score=0): \n",
        "    # __init__() : 파이썬에서 생성자를 관리하는 키워드 return을 써 주면 안됨!\n",
        "    self.name = name\n",
        "    self.score = score\n",
        "  def setVariables(self, name, score):\n",
        "    self.name = name\n",
        "    self.score = score\n",
        "  def show(self):\n",
        "    print('---학생정보---')\n",
        "    print('이름 :', self.name)\n",
        "    print('성적 :', self.score)\n"
      ]
    },
    {
      "cell_type": "code",
      "source": [
        "kim = Student('김철수', 70)\n",
        "park = Student('박영희', 100)\n",
        "bae = Student('배상엽', 90)\n",
        "s1 = Student('아무개', 100)\n",
        "s2 = Student()\n",
        "s1.show()\n",
        "\n",
        "bae.show()\n",
        "# park.setVariables('박영희', 70)\n",
        "#park.name = '박영희'\n",
        "#park.score = 70\n",
        "# kim.setVariables('김철수', 100)\n",
        "# kim.name = '김철수'\n",
        "# kim.score = 100\n",
        "kim.show()\n",
        "park.show()"
      ],
      "metadata": {
        "colab": {
          "base_uri": "https://localhost:8080/"
        },
        "id": "VAfGe3Myh39O",
        "outputId": "e1b316ba-dc31-4e78-ac57-0e970800ed62"
      },
      "execution_count": null,
      "outputs": [
        {
          "output_type": "stream",
          "name": "stdout",
          "text": [
            "---학생정보---\n",
            "이름 : 아무개\n",
            "성적 : 100\n",
            "---학생정보---\n",
            "이름 : 배상엽\n",
            "성적 : 90\n",
            "---학생정보---\n",
            "이름 : 김철수\n",
            "성적 : 70\n",
            "---학생정보---\n",
            "이름 : 박영희\n",
            "성적 : 100\n"
          ]
        }
      ]
    },
    {
      "cell_type": "code",
      "source": [
        "class Korean:\n",
        "  country = '대한민국'# 클래스변수\n",
        "  def __init__(self, name):\n",
        "    self.name = name\n",
        "\n",
        "kim = Korean('김철수')\n",
        "park = Korean('박영희')\n",
        "\n",
        "Korean.country = '일본'\n",
        "kim.country = 'USA'\n",
        "print(kim.country)\n",
        "print(park.country)\n",
        "print(Korean.country)"
      ],
      "metadata": {
        "colab": {
          "base_uri": "https://localhost:8080/"
        },
        "id": "5ecW8Ms4rqPA",
        "outputId": "0f9460cc-89a9-4bcd-fb3e-58ee4c6fb0ef"
      },
      "execution_count": null,
      "outputs": [
        {
          "output_type": "stream",
          "name": "stdout",
          "text": [
            "USA\n",
            "일본\n",
            "일본\n"
          ]
        }
      ]
    },
    {
      "cell_type": "markdown",
      "source": [
        "# 탐색 알고리즘"
      ],
      "metadata": {
        "id": "ECuAhyUL7oxU"
      }
    },
    {
      "cell_type": "code",
      "source": [
        "def search(li, target):\n",
        "  cnt = 0\n",
        "  for num in li:\n",
        "    cnt += 1\n",
        "    if num == target:\n",
        "      print('찾기 성공!')\n",
        "      print('반복횟수 :', cnt)\n",
        "      return\n",
        "  print('찾기 실패')\n",
        "  print('반복횟수 :', cnt)\n",
        "\n",
        "def b_search(li, target):\n",
        "  cnt = 0\n",
        "  left = 0 # 왼쪽 인덱스번호를 저장할 변수\n",
        "  right = len(li)-1 # 오른쪽 인덱스번호를 저장할 변수\n",
        "  while left <= right:\n",
        "    cnt += 1\n",
        "    mid = (left + right) // 2 # 가운데 인덱스 번호를 저장할 변수\n",
        "    if li[mid] == target:\n",
        "      print('찾기 성공')\n",
        "      print('반복횟수 :', cnt)\n",
        "      return\n",
        "    elif li[mid] > target: # 내가 찾으려는 목표 값 보다 중간 값 mid가 더 크다! \n",
        "      right = mid-1 # 그런 경우는 mid보다 작은 수를 찾아야 하니 right를 mid-1로 해주는 것\n",
        "    elif li[mid] < target:\n",
        "      left = mid + 1\n",
        "  print('찾기 실패')\n",
        "  print('반복횟수 :', cnt)"
      ],
      "metadata": {
        "id": "y-Rv7d6K7yKL"
      },
      "execution_count": null,
      "outputs": []
    },
    {
      "cell_type": "code",
      "source": [
        "li = [i for i in range(100000000)]"
      ],
      "metadata": {
        "colab": {
          "base_uri": "https://localhost:8080/"
        },
        "id": "BFGuaIQB7qkL",
        "outputId": "e0a8448c-38f8-4474-83f1-3943a9018641"
      },
      "execution_count": null,
      "outputs": [
        {
          "output_type": "stream",
          "name": "stdout",
          "text": [
            "찾기 성공\n",
            "반복횟수 : 26\n",
            "--------\n",
            "찾기 성공!\n",
            "반복횟수 : 1000\n"
          ]
        }
      ]
    },
    {
      "cell_type": "code",
      "source": [
        "b_search(li, 0)\n",
        "print('--------')\n",
        "search(li, 0)"
      ],
      "metadata": {
        "colab": {
          "base_uri": "https://localhost:8080/"
        },
        "id": "FlOp96N1AgiL",
        "outputId": "359fcbdb-2ef4-4ff8-dd4d-af15ae8fe90c"
      },
      "execution_count": null,
      "outputs": [
        {
          "output_type": "stream",
          "name": "stdout",
          "text": [
            "찾기 성공\n",
            "반복횟수 : 26\n",
            "--------\n",
            "찾기 성공!\n",
            "반복횟수 : 1\n"
          ]
        }
      ]
    },
    {
      "cell_type": "markdown",
      "source": [
        "# 스택\n",
        "pop()  \n",
        "push()  \n",
        "peek()  \n",
        "clear()\n"
      ],
      "metadata": {
        "id": "glHqnBrHFhdn"
      }
    },
    {
      "cell_type": "code",
      "source": [
        "# isFull() : 스택이 차있다면 True, 비어있다면 False return 되는 함수\n",
        "def isFull(stk, size):\n",
        "  return len(stk) == size\n",
        "  # if len(stk) == size:\n",
        "  #   return True\n",
        "  # return False\n",
        "\n",
        "# isEmpty() : 스택이 비어있다면 True, 차있다면 False return되는 함수\n",
        "def isEmpty(stk):\n",
        "  return len(stk) == 0\n",
        "\n",
        "\n",
        "#push() : 스택에 요소를 삽입하는 함수\n",
        "def push(stk, size, element):\n",
        "  # 만약에 스택이 가득 차있다면 추가 실패\n",
        "  if not isFull(stk, size):\n",
        "    stk.append(element)\n",
        "\n",
        "#pop() : 스택에서 데이터를 삭제하는 함수, 삭제된 요소를 return\n",
        "def pop(stk):\n",
        "  if not isEmpty(stk):\n",
        "    return stk.pop()\n",
        "\n",
        "#peek() : 꼭대기에 있는 요소를 return하는 함수\n",
        "def peek(stk):\n",
        "  if not isEmpty(stk):\n",
        "    return stk[-1]\n",
        "    \n",
        "#clear() : 스택을 비워주는 함수\n",
        "def clear(stk):\n",
        "  if not isEmpty(stk):\n",
        "    for i in range(len(stk)):\n",
        "      pop(stk)\n",
        "\n"
      ],
      "metadata": {
        "id": "woxY0iJiGLuL"
      },
      "execution_count": null,
      "outputs": []
    },
    {
      "cell_type": "code",
      "source": [
        "# list를 데이터가 저장되는 공간으로 활용하여\n",
        "# 스택 구현하기\n",
        "stk = [] # 실질적으로 스택의 데이터가 저장되는 공간\n",
        "# 0번 인덱스를 bottom으로 설정하여 진행\n",
        "size = 3 # 스택의 사이즈\n",
        "\n",
        "push(stk, size, '안녕')\n",
        "print(stk)\n",
        "push(stk, size, '반가워요')\n",
        "print(stk)\n",
        "push(stk, size, '오늘은')\n",
        "print(stk)\n",
        "print('삭제된요소 :', pop(stk))\n",
        "print(stk)\n",
        "print('꼭대기에 있는 요소:', peek(stk))\n",
        "print(stk)\n",
        "clear(stk)\n",
        "print(stk)\n",
        "# push(stk, size, '일요일')\n",
        "# print(stk)"
      ],
      "metadata": {
        "colab": {
          "base_uri": "https://localhost:8080/"
        },
        "id": "n47TsE-KK4TD",
        "outputId": "5bdb63f2-340e-4567-fc49-304a80230a23"
      },
      "execution_count": null,
      "outputs": [
        {
          "output_type": "stream",
          "name": "stdout",
          "text": [
            "['안녕']\n",
            "['안녕', '반가워요']\n",
            "['안녕', '반가워요', '오늘은']\n",
            "삭제된요소 : 오늘은\n",
            "['안녕', '반가워요']\n",
            "꼭대기에 있는 요소: 반가워요\n",
            "['안녕', '반가워요']\n",
            "[]\n"
          ]
        }
      ]
    },
    {
      "cell_type": "code",
      "source": [
        "# 리스트로 스택을 만들기\n",
        "class Stack:\n",
        "  def __init__(self, size):\n",
        "    self.stk = []\n",
        "    self.size = size\n",
        "\n",
        "  def isFull(self):\n",
        "    return len(self.stk) == self.size\n",
        "\n",
        "  #isEmpty()\n",
        "  #push()\n",
        "  #pop()\n",
        "  #peek()\n",
        "  #clear()\n",
        "\n",
        "\n",
        "s = Stack(3)\n",
        "s.isFull()"
      ],
      "metadata": {
        "colab": {
          "base_uri": "https://localhost:8080/"
        },
        "id": "zWKcks0ISyot",
        "outputId": "93bd246c-4b76-42bf-f666-58fc65ceeb99"
      },
      "execution_count": null,
      "outputs": [
        {
          "output_type": "execute_result",
          "data": {
            "text/plain": [
              "False"
            ]
          },
          "metadata": {},
          "execution_count": 68
        }
      ]
    }
  ]
}