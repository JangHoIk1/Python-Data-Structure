{
  "nbformat": 4,
  "nbformat_minor": 0,
  "metadata": {
    "colab": {
      "name": "stack.ipynb",
      "provenance": [],
      "collapsed_sections": [],
      "authorship_tag": "ABX9TyPNYPrIjN6Zhxhwn/P/KZeX",
      "include_colab_link": true
    },
    "kernelspec": {
      "name": "python3",
      "display_name": "Python 3"
    },
    "language_info": {
      "name": "python"
    }
  },
  "cells": [
    {
      "cell_type": "markdown",
      "metadata": {
        "id": "view-in-github",
        "colab_type": "text"
      },
      "source": [
        "<a href=\"https://colab.research.google.com/github/JangHoIk1/Python-Data-Structure/blob/main/stack.ipynb\" target=\"_parent\"><img src=\"https://colab.research.google.com/assets/colab-badge.svg\" alt=\"Open In Colab\"/></a>"
      ]
    },
    {
      "cell_type": "code",
      "execution_count": null,
      "metadata": {
        "id": "gGtuVyZFiIs0"
      },
      "outputs": [],
      "source": [
        "class Stack:\n",
        "  def __init__(self,size = 5):\n",
        "    self.stk = [] # 실질적인 데이터가 저장되는 공간\n",
        "    self.size = size # 스택의 크기\n",
        "  \n",
        "# 요소 확인용 메소드\n",
        "\n",
        "  def show(self):\n",
        "    print(\"-----------------\")\n",
        "    for element in self.stk:\n",
        "      print('|',element,end=' ')\n",
        "    print(\"\\n-----------------\")\n",
        "  def isFull(self):\n",
        "    return len(self.stk) == self.size\n",
        "  \n",
        "  def isEmpty(self):\n",
        "    return len(self.stk) == 0\n",
        "\n",
        "  #push()\n",
        "  def push(self,data):\n",
        "    if not self.isFull():\n",
        "      self.stk.append(data)\n",
        "\n",
        "  #pop()\n",
        "  def pop(self):\n",
        "    if not self.isEmpty():\n",
        "      return self.stk.pop()\n",
        "  #peek()\n",
        "  def peek(self):\n",
        "    if not self.isEmpty():\n",
        "      return self.stk[-1]\n",
        "  #clear()\n",
        "  def clear(self):\n",
        "    if not self.isEmpty():\n",
        "      for i in range(len(self.stk)):\n",
        "        self.pop()"
      ]
    }
  ]
}