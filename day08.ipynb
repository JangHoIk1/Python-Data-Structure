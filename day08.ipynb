{
  "nbformat": 4,
  "nbformat_minor": 0,
  "metadata": {
    "colab": {
      "name": "day08.ipynb",
      "provenance": [],
      "include_colab_link": true
    },
    "kernelspec": {
      "name": "python3",
      "display_name": "Python 3"
    },
    "language_info": {
      "name": "python"
    }
  },
  "cells": [
    {
      "cell_type": "markdown",
      "metadata": {
        "id": "view-in-github",
        "colab_type": "text"
      },
      "source": [
        "<a href=\"https://colab.research.google.com/github/JangHoIk1/Python-Data-Structure/blob/main/day08.ipynb\" target=\"_parent\"><img src=\"https://colab.research.google.com/assets/colab-badge.svg\" alt=\"Open In Colab\"/></a>"
      ]
    },
    {
      "cell_type": "code",
      "execution_count": null,
      "metadata": {
        "id": "Wym7wvMdsCl1"
      },
      "outputs": [],
      "source": [
        "class Hash:\n",
        "  # 링크드리스트에서 사용할 노드\n",
        "  class Node:\n",
        "    def __init__(self, data, node = None):\n",
        "      self.data = data\n",
        "      self.next = node\n",
        "\n",
        "  def __init__(self, size = 10):\n",
        "    self.table= [None for i in range(size)]\n",
        "    self.size = size\n",
        "\n",
        "  def hash(self, key):\n",
        "    return key % self.size\n",
        "\n",
        "  def add(self, key):\n",
        "    idx = self.hash(key)\n",
        "\n",
        "    # 링크드리스트 추가\n",
        "    newNode = self.Node(key, self.table[idx])\n",
        "\n",
        "    if self.table[idx] == None:\n",
        "      self.table[idx] = newNode\n",
        "    \n",
        "    # 중복된 값 찾기\n",
        "    curr = self.table[idx]\n",
        "    while curr.next != None:\n",
        "      if curr.data == key:\n",
        "        return\n",
        "      curr = curr.next\n",
        "\n",
        "    #중복된 값이 없다면 노드 추가\n",
        "    self.table[idx] = newNode\n",
        "\n",
        "  #remove()\n",
        "  def remove(self, key):\n",
        "    idx = self.hash(key)\n",
        "\n",
        "    #삭제하고자 하는 요소가 없다면 강제종료\n",
        "    if self.table[idx] == None : return\n",
        "\n",
        "    #만약 삭제하고자 하는 요소가 해당 버킷의 첫번째 노드라면\n",
        "    #해당 버킷의 첫번째 노드를 두번째 노드로 바꿔준다\n",
        "    if self.table[idx].data == key:\n",
        "      self.table[idx] = self.table[idx].next\n",
        "      return\n",
        "\n",
        "    curr = self.table[idx]\n",
        "    while curr != None:\n",
        "      if curr.data == key: break\n",
        "      prev = curr\n",
        "      curr = curr.next\n",
        "\n",
        "    #만약 찾고자하는 요소가 없다면 curr에는 None값이 들어간다\n",
        "    if curr == None: return\n",
        "\n",
        "    #while문이 끝나면 curr에는 삭제할 노드\n",
        "    #prev에는 삭제하기 이전 노드\n",
        "    prev.next = curr.next\n",
        "\n",
        "  #search()\n",
        "  def search(self, key):\n",
        "    idx = self.hash(key)\n",
        "    curr = self.table[idx]\n",
        "    while curr != None:\n",
        "      if curr.data == key: break\n",
        "      curr = curr.next\n",
        "    \n",
        "    #반복문이 끝나면 curr에는 찾고자하는 노드가 들어있다\n",
        "    #찾고자 하는 요소가 없다면 curr에는 None값이 들어간다\n",
        "    if curr == None: return\n",
        "\n",
        "    return curr.data\n",
        "\n",
        "\n",
        "  #show()\n",
        "  def show(self):\n",
        "    print('---hash table---')\n",
        "    for i in range(self.size):\n",
        "      print(i, end = ': ')\n",
        "      curr = self.table[i]\n",
        "      while curr != None:\n",
        "        print(curr.data, end = '->')\n",
        "        curr = curr.next\n",
        "      print()\n",
        "\n",
        "\n"
      ]
    },
    {
      "cell_type": "code",
      "source": [
        "h = Hash()\n",
        "h.add(10)\n",
        "h.add(27)\n",
        "h.add(40)\n",
        "h.add(47)\n",
        "h.remove(40)\n",
        "h.remove(10)\n",
        "h.remove(10)\n",
        "h.add(47)\n",
        "print(h.search(0))\n",
        "h.show()"
      ],
      "metadata": {
        "colab": {
          "base_uri": "https://localhost:8080/"
        },
        "id": "Az-YnoGP2-xJ",
        "outputId": "eb7212ea-de80-408e-849b-3c2c77490e50"
      },
      "execution_count": null,
      "outputs": [
        {
          "output_type": "stream",
          "name": "stdout",
          "text": [
            "None\n",
            "---hash table---\n",
            "0: \n",
            "1: \n",
            "2: \n",
            "3: \n",
            "4: \n",
            "5: \n",
            "6: \n",
            "7: 47->27->\n",
            "8: \n",
            "9: \n"
          ]
        }
      ]
    },
    {
      "cell_type": "code",
      "source": [
        "class Hash:\n",
        "  class Node:\n",
        "    def __init__(self, key, value, node = None):\n",
        "      self.key = key\n",
        "      self.value = value\n",
        "      self.next = node\n",
        "    \n",
        "  def __init__(self, size = 10):\n",
        "    self.table = [None for i in range(size)]\n",
        "    self.size = size\n",
        "\n",
        "  def hash(self, key):\n",
        "    return key % self.size\n",
        "\n",
        "  def show(self):\n",
        "    print('---hash table---')\n",
        "    for i in range(self.size):\n",
        "      print(i, end = ': ')\n",
        "      curr = self.table[i]\n",
        "      while curr != None:\n",
        "        print('[',curr.key , '=', curr.value,']',sep='', end = '->')\n",
        "        curr = curr.next\n",
        "      print()\n",
        "\n",
        "  def add(self, key, value):\n",
        "    idx = self.hash(key)\n",
        "\n",
        "    curr = self.table[idx]\n",
        "    while curr != None:\n",
        "      if curr.key == key: break\n",
        "      curr = curr.next\n",
        "\n",
        "    # while문이 다 끝났을때\n",
        "    # 중복되는 key값이 아니라면 curr에는 None이 들어있다\n",
        "    if curr == None:\n",
        "      newNode = self.Node(key, value, self.table[idx])\n",
        "      self.table[idx] = newNode\n",
        "      return\n",
        "\n",
        "    # 만일 추가하고자 하는 key값이 중복된다면 curr에는 노드가 들어있고\n",
        "    curr.value = value\n",
        "\n",
        "\n",
        "  def remove(self, key):\n",
        "    idx = self.hash(key)\n",
        "    curr = self.table[idx]\n",
        "    \n",
        "    if curr.key == key and curr != None:\n",
        "      self.table[idx] = curr.next\n",
        "      return\n",
        "\n",
        "    while curr != None:\n",
        "      if curr.key == key: break\n",
        "      prev = curr\n",
        "      curr = curr.next\n",
        "\n",
        "    if curr == None: return\n",
        "\n",
        "    prev.next = curr.next\n",
        "    prev = curr.next\n",
        "\n",
        "\n",
        "  def search(self, key):\n",
        "    idx = self.hash(key)\n",
        "    curr = self.table[idx]\n",
        "    while curr != None:\n",
        "      if curr.key == key: break\n",
        "      curr = curr.next\n",
        "\n",
        "    if curr == None : return\n",
        "\n",
        "    return curr.value\n",
        "\n",
        "\n"
      ],
      "metadata": {
        "id": "GKPJrKPs4dpn"
      },
      "execution_count": null,
      "outputs": []
    },
    {
      "cell_type": "code",
      "source": [
        "h = Hash()\n",
        "h.add(17, '김철수')\n",
        "h.add(27, '김영희')\n",
        "h.add(17, '홍길동')\n",
        "h.remove(27)\n",
        "\n",
        "print(h.search(17))\n",
        "h.show()"
      ],
      "metadata": {
        "colab": {
          "base_uri": "https://localhost:8080/"
        },
        "id": "3nLsX-zY89aU",
        "outputId": "76f315e3-f532-4d24-cdff-05afbb1350af"
      },
      "execution_count": null,
      "outputs": [
        {
          "output_type": "stream",
          "name": "stdout",
          "text": [
            "홍길동\n",
            "---hash table---\n",
            "0: \n",
            "1: \n",
            "2: \n",
            "3: \n",
            "4: \n",
            "5: \n",
            "6: \n",
            "7: [17=홍길동]->\n",
            "8: \n",
            "9: \n"
          ]
        }
      ]
    },
    {
      "cell_type": "markdown",
      "source": [
        "# 그래프"
      ],
      "metadata": {
        "id": "090ic3HaSvnk"
      }
    },
    {
      "cell_type": "code",
      "source": [
        "#인접행렬로 그래프 표현하기\n",
        "g1 = [\n",
        "      [0,1,0,0,0],\n",
        "      [1,0,1,1,0],\n",
        "      [0,1,0,1,0],\n",
        "      [0,1,1,0,1],\n",
        "      [0,0,0,1,0]\n",
        "]\n",
        "\n",
        "# 인접 리스트\n",
        "g2 = [[],\n",
        "      [2],\n",
        "      [1,3,4],\n",
        "      [2,4],\n",
        "      [2,3,5],\n",
        "      [4]\n",
        "]\n",
        "\n",
        "# 딕셔너리\n",
        "g3 = {\n",
        "    1:[2],\n",
        "    2:[1,3,4],\n",
        "    3:[2,4],\n",
        "    4:[2,3,5],\n",
        "    5:[4]\n",
        "}"
      ],
      "metadata": {
        "id": "i2ULjdyRA3O4"
      },
      "execution_count": null,
      "outputs": []
    },
    {
      "cell_type": "markdown",
      "source": [
        "# DFS(깊이 우선 탐색)\n"
      ],
      "metadata": {
        "id": "ZSWS4X4KVR_k"
      }
    },
    {
      "cell_type": "code",
      "source": [
        "graph = {\n",
        "    1:[5,6], # 1노드는 5,6과연결\n",
        "    2:[3,4,6],#2노드는 3,4,6과 연결\n",
        "    3:[2,4,5],#3노드는 2,4,5와 연결\n",
        "    4:[2,3],# 4노드는 2,3과 연결\n",
        "    5:[1,3,6],#5노드는 1,3,6과 연결\n",
        "    6:[1,2,5]#6노드는 1,2,5와 연결\n",
        "}"
      ],
      "metadata": {
        "id": "MrkzWPgMVXdw"
      },
      "execution_count": null,
      "outputs": []
    },
    {
      "cell_type": "code",
      "source": [
        "#깊이우선탐색을 실행하는 함수\n",
        "def dfs(graph, start):\n",
        "  visited = [] # 이미 방분한 정점을\n",
        "                #저장하는 리스트\n",
        "  stack = [start]\n",
        "  while stack:#비어있다면 반복그만\n",
        "    virtex = stack.pop()\n",
        "    if virtex not in visited:\n",
        "      visited.append(virtex)\n",
        "      for i in graph[virtex]:\n",
        "        stack.append(i)\n",
        "  return visited"
      ],
      "metadata": {
        "id": "KL9sy6B-WSOB"
      },
      "execution_count": null,
      "outputs": []
    },
    {
      "cell_type": "code",
      "source": [
        "print(dfs(graph, 1))\n",
        "print(dfs(g3,1))\n"
      ],
      "metadata": {
        "colab": {
          "base_uri": "https://localhost:8080/"
        },
        "id": "t30G9uAFZ0jb",
        "outputId": "0488f455-6468-4ed6-d99e-e4e82528629e"
      },
      "execution_count": null,
      "outputs": [
        {
          "output_type": "stream",
          "name": "stdout",
          "text": [
            "[1, 6, 5, 3, 4, 2]\n",
            "[1, 2, 4, 5, 3]\n"
          ]
        }
      ]
    },
    {
      "cell_type": "markdown",
      "source": [
        "# BFS 너비 우선 탐색"
      ],
      "metadata": {
        "id": "PGAguQztaMc2"
      }
    },
    {
      "cell_type": "code",
      "source": [
        "def bfs(graph, start):\n",
        "  visited = [start]\n",
        "  queue = [start]\n",
        "  while queue:\n",
        "    virtex = queue.pop(0)\n",
        "    for i in graph[virtex]:\n",
        "      if i not in visited:\n",
        "        visited.append(i)\n",
        "        queue.append(i)\n",
        "  return visited"
      ],
      "metadata": {
        "id": "XO4rj8hnaHRN"
      },
      "execution_count": null,
      "outputs": []
    },
    {
      "cell_type": "code",
      "source": [
        "bfs(graph, 1)"
      ],
      "metadata": {
        "id": "FNjfFDzDcZm7",
        "outputId": "762dce92-1f1b-4c96-a3ad-8a927d21ca62",
        "colab": {
          "base_uri": "https://localhost:8080/"
        }
      },
      "execution_count": null,
      "outputs": [
        {
          "output_type": "execute_result",
          "data": {
            "text/plain": [
              "[1, 5, 6, 3, 2, 4]"
            ]
          },
          "metadata": {},
          "execution_count": 46
        }
      ]
    }
  ]
}