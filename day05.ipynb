{
  "nbformat": 4,
  "nbformat_minor": 0,
  "metadata": {
    "colab": {
      "name": "day05.ipynb",
      "provenance": [],
      "include_colab_link": true
    },
    "kernelspec": {
      "name": "python3",
      "display_name": "Python 3"
    },
    "language_info": {
      "name": "python"
    }
  },
  "cells": [
    {
      "cell_type": "markdown",
      "metadata": {
        "id": "view-in-github",
        "colab_type": "text"
      },
      "source": [
        "<a href=\"https://colab.research.google.com/github/JangHoIk1/Python-Data-Structure/blob/main/day05.ipynb\" target=\"_parent\"><img src=\"https://colab.research.google.com/assets/colab-badge.svg\" alt=\"Open In Colab\"/></a>"
      ]
    },
    {
      "cell_type": "code",
      "execution_count": null,
      "metadata": {
        "id": "C_n6Y6FaelFh"
      },
      "outputs": [],
      "source": [
        "class DList:\n",
        "  class Node:\n",
        "    def __init__(self, data=None, leftNode= None, rightNode = None):\n",
        "      self.data = data\n",
        "      self.prev = leftNode\n",
        "      self.next = rightNode\n",
        "\n",
        "  def __init__(self):\n",
        "    self.head = self.Node()\n",
        "    self.tail = self.Node()\n",
        "    self.head.next = self.tail\n",
        "    self.tail.prev = self.head\n",
        "    self.length = 0\n",
        "\n",
        "  def show(self):\n",
        "    curr = self.head\n",
        "    while curr.next != self.tail:\n",
        "      curr = curr.next\n",
        "      print(curr.data, end = '<-->')\n",
        "    \n",
        "    print()\n",
        "\n",
        "  \n",
        "  #추가\n",
        "  def insertFirst(self, data):\n",
        "    newNode = self.Node(data, self.head, self.head.next)\n",
        "    \n",
        "    self.head.next.prev = newNode\n",
        "    self.head.next = newNode\n",
        "    self.length += 1\n",
        "  \n",
        "  def insertLast(self, data):\n",
        "    newNode = self.Node(data, self.tail.prev, self.tail)\n",
        "\n",
        "    self.tail.prev.next = newNode\n",
        "    self.tail.prev = newNode\n",
        "    self.length += 1\n",
        "\n",
        "  #노드를 찾는 함수\n",
        "  # 함수 앞에 __ 를 붙이면 밖에서는 함수를 사용할 수 없도록 막아줄 수 있다\n",
        "  # findNode()는 클래스 내부에서만 사용하는 함수이기 때문에\n",
        "  # 밖에서는 사용할 수 없도록 __를 붙일 수 있다\n",
        "  def __findNode(self, idx):\n",
        "    if idx == -1:\n",
        "      return self.head\n",
        "    if 0 <= idx < self.length:\n",
        "      if idx < self.length // 2:\n",
        "        curr = self.head\n",
        "        for i in range(idx + 1):\n",
        "          curr = curr.next\n",
        "      else:\n",
        "        curr = self.tail\n",
        "        for i in range(self.length - idx):\n",
        "          curr = curr.prev\n",
        "        \n",
        "      # curr에는 우리가 찾고자 하는 노드가 들어있다\n",
        "      return curr\n",
        "\n",
        "\n",
        "  def insert(self, idx, data):\n",
        "    if 0 <= idx <= self.length:\n",
        "      # # idx번호가 앞쪽이라면 앞쪽부터 탐색\n",
        "      # if idx < self.length // 2:\n",
        "      #   curr = self.head\n",
        "      #   for i in range(idx):\n",
        "      #     curr = curr.next\n",
        "      #   # 반복이 끝나면 curr에는 삽입하기 이전 노드가 들어있다\n",
        "\n",
        "      # # idx번호가 뒤쪽이라면 뒤쪽부터 탐색\n",
        "      # else:\n",
        "      #   curr = self.tail\n",
        "      #   for i in range(self.length - idx):\n",
        "      #     curr = curr.prev\n",
        "      #   # 반복이 끝나면 curr에는 삽입할 위치의 다음 노드가 들어있다\n",
        "      #   curr = curr.prev\n",
        "      #   #curr에는 삽입하기 이전 노드가 담겨있다\n",
        "\n",
        "      curr = self.__findNode(idx - 1)\n",
        "\n",
        "      #curr에는 삽입하기 이전 노드가 들어있다\n",
        "      newNode = self.Node(data, curr, curr.next)\n",
        "      curr.next.prev = newNode\n",
        "      curr.next = newNode\n",
        "      self.length += 1\n",
        "\n",
        "\n",
        "  #수정\n",
        "  def update(self, idx, data):\n",
        "    if 0 <= idx < self.length:\n",
        "      target = self.__findNode(idx)\n",
        "      target.data = data\n",
        "\n",
        "  #삭제\n",
        "  def remove(self, idx):\n",
        "    if 0<= idx < self.length:\n",
        "      prev = self.__findNode(idx - 1) # 삭제할 노드의 이전 노드를 prev에 담아준다\n",
        "      removeNode = prev.next # 삭제할 노드\n",
        "      prev.next = removeNode.next\n",
        "      removeNode.next.prev = prev\n",
        "      self.length -= 1\n",
        "\n",
        "  #검색\n",
        "  def select(self, idx):\n",
        "    if 0 <= idx < self.length:\n",
        "      # target = self.__findNode(idx)\n",
        "      return self.__findNode(idx).data"
      ]
    },
    {
      "cell_type": "code",
      "source": [
        "li = DList()\n",
        "\n",
        "li.insertLast(10)\n",
        "li.insertFirst(20)\n",
        "li.insertFirst(30)\n",
        "\n",
        "li.show()\n",
        "li.insert(1, 100)\n",
        "li.show()\n",
        "li.update(3,-500)\n",
        "li.show()\n",
        "li.remove(4)\n",
        "li.show()\n",
        "print(li.select(4))"
      ],
      "metadata": {
        "colab": {
          "base_uri": "https://localhost:8080/"
        },
        "id": "lKjJw4vfp7hx",
        "outputId": "d1d39ee7-e9fb-4355-c8a8-c250395c1e62"
      },
      "execution_count": null,
      "outputs": [
        {
          "output_type": "stream",
          "name": "stdout",
          "text": [
            "30<-->20<-->10<-->\n",
            "30<-->100<-->20<-->10<-->\n",
            "30<-->100<-->20<-->-500<-->\n",
            "30<-->100<-->20<-->-500<-->\n",
            "None\n"
          ]
        }
      ]
    },
    {
      "cell_type": "markdown",
      "source": [
        "# 재귀함수\n",
        "자신 내에서 자신을 호출하는 함수"
      ],
      "metadata": {
        "id": "qARSNgT_4Mig"
      }
    },
    {
      "cell_type": "code",
      "source": [
        "# 사용자에게 반복 횟수를 입력받아 \n",
        "# 이름을 해당 반복횟수만큼 출력하는 함수\n",
        "def printName(cnt):\n",
        "  for i in range(cnt):\n",
        "    print('배상엽')\n",
        "\n",
        "def re_printName(cnt):\n",
        "  if cnt == 0: return\n",
        "  print('배상엽')\n",
        "  re_printName(cnt - 1)"
      ],
      "metadata": {
        "id": "nDcUe7qm4LT8"
      },
      "execution_count": null,
      "outputs": []
    },
    {
      "cell_type": "code",
      "source": [
        "num = int(input('반복횟수 >> '))\n",
        "printName(num)\n",
        "print('----------')\n",
        "re_printName(num)\n",
        "\n"
      ],
      "metadata": {
        "colab": {
          "base_uri": "https://localhost:8080/"
        },
        "id": "kH1z722Z4ffN",
        "outputId": "9c011bee-667f-4fe9-a37f-9ae1d09a25ad"
      },
      "execution_count": null,
      "outputs": [
        {
          "output_type": "stream",
          "name": "stdout",
          "text": [
            "반복횟수 >> 5\n",
            "배상엽\n",
            "배상엽\n",
            "배상엽\n",
            "배상엽\n",
            "배상엽\n",
            "----------\n",
            "배상엽\n",
            "배상엽\n",
            "배상엽\n",
            "배상엽\n",
            "배상엽\n"
          ]
        }
      ]
    },
    {
      "cell_type": "code",
      "source": [
        "# 1부터 n까지 총합을 구하는 함수\n",
        "def getSum(n):\n",
        "  total = 0\n",
        "  for i in range(1, n + 1):\n",
        "    total += i\n",
        "  return total\n",
        "\n",
        "def re_getSum(n):\n",
        "  if n == 1 : return 1\n",
        "  return n + re_getSum(n - 1)"
      ],
      "metadata": {
        "id": "jAmyrZUh7uwP"
      },
      "execution_count": null,
      "outputs": []
    },
    {
      "cell_type": "code",
      "source": [
        "print('getSum(5) :', getSum(5))\n",
        "print('re_getSum(5) :', re_getSum(5))"
      ],
      "metadata": {
        "colab": {
          "base_uri": "https://localhost:8080/"
        },
        "id": "WD0Aml1P7-gk",
        "outputId": "6fc8c183-7939-4363-c7fe-489b3a53b33f"
      },
      "execution_count": null,
      "outputs": [
        {
          "output_type": "stream",
          "name": "stdout",
          "text": [
            "getSum(5) : 15\n",
            "re_getSum(5) : 15\n"
          ]
        }
      ]
    },
    {
      "cell_type": "code",
      "source": [
        "# n * (n-1) * ... 1 까지 곱한 수를 구하는 함수를 \n",
        "# 재귀함수로 만들기\n",
        "def factorial(n):\n",
        "  res = 1\n",
        "  for i in range(1, n+1):\n",
        "    res *= i\n",
        "  return res\n",
        "\n",
        "def re_fac(n):\n",
        "  if n == 1 : return 1\n",
        "  return n * re_fac(n-1)"
      ],
      "metadata": {
        "id": "HtFZL6VM91vs"
      },
      "execution_count": null,
      "outputs": []
    },
    {
      "cell_type": "code",
      "source": [
        "print('factorial(5):',factorial(5))\n",
        "print('re_fac(5):',re_fac(5))"
      ],
      "metadata": {
        "colab": {
          "base_uri": "https://localhost:8080/"
        },
        "id": "VLuMw7DE_Gid",
        "outputId": "f49882da-03e2-4f9a-b1dc-bf44ae5fb9ac"
      },
      "execution_count": null,
      "outputs": [
        {
          "output_type": "stream",
          "name": "stdout",
          "text": [
            "factorial(5): 120\n",
            "re_fac(5): 120\n"
          ]
        }
      ]
    },
    {
      "cell_type": "markdown",
      "source": [
        "# 트리"
      ],
      "metadata": {
        "id": "D9qshLnLGzPa"
      }
    },
    {
      "cell_type": "code",
      "source": [
        "class Node:\n",
        "  def __init__(self, data):\n",
        "    self.data = data"
      ],
      "metadata": {
        "id": "EIzd3VQtG1GD"
      },
      "execution_count": null,
      "outputs": []
    },
    {
      "cell_type": "code",
      "source": [
        "n1 = Node('A')\n",
        "\n",
        "\n",
        "n2 = Node('B')\n",
        "n1.child1 = n2\n",
        "\n",
        "n3 = Node('C')\n",
        "n1.child2 = n3"
      ],
      "metadata": {
        "id": "zk7SOn5IHD0N"
      },
      "execution_count": null,
      "outputs": []
    },
    {
      "cell_type": "code",
      "source": [
        "#이진탐색트리 클래스\n",
        "class BinarySearchTree:\n",
        "  class Node:\n",
        "    def __init__(self, data= None, leftChild=None, rightChild=None):\n",
        "      self.data = data\n",
        "      self.left = leftChild\n",
        "      self.right = rightChild\n",
        "  \n",
        "  def __init__(self):\n",
        "    self.root = None\n",
        "  \n",
        "  def preOrder(self, node): # 전위순회 \n",
        "    if node != None:\n",
        "      print(node.data, end = ', ')\n",
        "      self.preOrder(node.left)\n",
        "      self.preOrder(node.right)\n",
        "      \n",
        "  #추가\n",
        "  def add(self, data):\n",
        "    newNode = self.Node(data)\n",
        "\n",
        "    #트리가 비어있다면\n",
        "    if self.root == None:\n",
        "      self.root = newNode\n",
        "      return\n",
        "    \n",
        "    curr = self.root\n",
        "    while True:\n",
        "      # 삽입하고자 하는 데이터가 노드보다 크다면\n",
        "      if curr.data < data:\n",
        "        if curr.right == None: # 만약 오른쪽 자식이 비었다면\n",
        "          curr.right = newNode # 해당 노드의 오른쪽 자식으로 추가\n",
        "          break\n",
        "        #오른쪽에서 계속 탐색\n",
        "        curr = curr.right\n",
        "      #삽입하고자 하는 데이터가 노드보다 작다면\n",
        "      elif curr.data > data:\n",
        "        if curr.left == None: # 왼쪽자식이 비었다면 \n",
        "          curr.left = newNode # 왼쪽 자식으로 새로만든 노드 추가\n",
        "          break\n",
        "        #왼쪽에서 계속 탐색\n",
        "        curr = curr.left\n",
        "      else : # curr.data == data 중복되는 데이터가 있다면\n",
        "        return # 추가 실패\n",
        "\n",
        "\n",
        "\n",
        "  #삭제\n",
        "  #검색"
      ],
      "metadata": {
        "id": "V-7-W9Q6Ixee"
      },
      "execution_count": null,
      "outputs": []
    },
    {
      "cell_type": "code",
      "source": [
        "tree = BinarySearchTree()\n",
        "\n",
        "tree.add(10)\n",
        "tree.add(5)\n",
        "tree.add(15)\n",
        "tree.add(7)\n",
        "tree.add(3)\n",
        "\n",
        "tree.preOrder(tree.root)"
      ],
      "metadata": {
        "colab": {
          "base_uri": "https://localhost:8080/"
        },
        "id": "ymZ7N60nOURH",
        "outputId": "59b73c7c-9846-4133-a76d-e2227cc28587"
      },
      "execution_count": null,
      "outputs": [
        {
          "output_type": "stream",
          "name": "stdout",
          "text": [
            "10, 5, 3, 7, 15, "
          ]
        }
      ]
    }
  ]
}