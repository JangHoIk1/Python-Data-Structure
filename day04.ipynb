{
  "nbformat": 4,
  "nbformat_minor": 0,
  "metadata": {
    "colab": {
      "name": "day04.ipynb",
      "provenance": [],
      "collapsed_sections": [],
      "include_colab_link": true
    },
    "kernelspec": {
      "name": "python3",
      "display_name": "Python 3"
    },
    "language_info": {
      "name": "python"
    }
  },
  "cells": [
    {
      "cell_type": "markdown",
      "metadata": {
        "id": "view-in-github",
        "colab_type": "text"
      },
      "source": [
        "<a href=\"https://colab.research.google.com/github/JangHoIk1/Python-Data-Structure/blob/main/day04.ipynb\" target=\"_parent\"><img src=\"https://colab.research.google.com/assets/colab-badge.svg\" alt=\"Open In Colab\"/></a>"
      ]
    },
    {
      "cell_type": "markdown",
      "source": [
        "# 원형 큐"
      ],
      "metadata": {
        "id": "ID1_aRsLjg3G"
      }
    },
    {
      "cell_type": "code",
      "execution_count": null,
      "metadata": {
        "id": "xCAGRMLxjeAG"
      },
      "outputs": [],
      "source": [
        "class CircleQue:\n",
        "  def __init__(self, size = 5):\n",
        "    self.que = [None for i in range(size)] # 실질적 데이터 저장공간\n",
        "    self.rear = 0 # rear 인덱스를 저장할 공간\n",
        "    self.front = 0 # front 인덱스를 저장할 공간\n",
        "    self.size = size # 큐의 최대 사이즈를 저장할 공간\n",
        "    self.length = 0 # 큐의 요소의 갯수를 저장할 공간\n",
        "  \n",
        "  #isEmpty()\n",
        "  def isEmpty(self):\n",
        "    return self.length == 0\n",
        "\n",
        "  #isFull()\n",
        "  def isFull(self):\n",
        "    return self.length == self.size\n",
        "\n",
        "  #enqueue()\n",
        "  def enqueue(self, data):\n",
        "    if not self.isFull():\n",
        "      self.que[self.rear] = data \n",
        "      self.rear = (self.rear + 1) % self.size   # rear를 옆으로 한 칸 이동\n",
        "      # if self.rear == self.size:\n",
        "      #   self.rear = 0\n",
        "      self.length += 1 # 요소 갯수 1 증가\n",
        "\n",
        "  #dequeue()\n",
        "  def dequeue(self):\n",
        "    if not self.isEmpty():\n",
        "      temp = self.que[self.front]\n",
        "      self.front = (self.front + 1) % self.size\n",
        "      self.length -= 1\n",
        "      return temp\n",
        "\n",
        "  #peek()\n",
        "  def peek(self):\n",
        "    if not self.isEmpty():\n",
        "      return self.que[self.front]\n",
        "\n",
        "  #clear()\n",
        "  def clear(self):\n",
        "    if not self.isEmpty():\n",
        "      self.front = self.rear\n",
        "      self.length = 0\n",
        "\n",
        "  def show(self):\n",
        "    idx = self.front\n",
        "    print('front:',self.front, 'rear:',self.rear, 'length:', self.length)\n",
        "    for i in range(self.length):\n",
        "      print(self.que[idx], end = ' ')\n",
        "      idx = (idx + 1) % self.size\n",
        "    print()"
      ]
    },
    {
      "cell_type": "code",
      "source": [
        "q = CircleQue()\n",
        "q.show()\n",
        "q.enqueue(10)\n",
        "q.enqueue(20)\n",
        "q.enqueue(30)\n",
        "q.enqueue(40)\n",
        "q.show()\n",
        "print('삭제된요소:',q.dequeue())\n",
        "q.show()\n",
        "q.enqueue(50)\n",
        "q.show()\n",
        "print('front에 있는 요소:',q.peek())\n",
        "q.clear()\n",
        "q.show()\n",
        "# print(q.que)"
      ],
      "metadata": {
        "colab": {
          "base_uri": "https://localhost:8080/"
        },
        "id": "qr4CChSYm4xe",
        "outputId": "76b661cb-430e-4afd-c2d0-35fbf5433320"
      },
      "execution_count": null,
      "outputs": [
        {
          "output_type": "stream",
          "name": "stdout",
          "text": [
            "[None, None, None, None, None]\n",
            "0 0 0 5\n",
            "front: 0 rear: 0 length: 0\n",
            "\n",
            "front: 0 rear: 0 length: 0\n",
            "\n",
            "삭제된요소: None\n",
            "front: 0 rear: 0 length: 0\n",
            "\n",
            "front: 0 rear: 0 length: 0\n",
            "\n",
            "front에 있는 요소: None\n",
            "front: 0 rear: 0 length: 0\n",
            "\n"
          ]
        }
      ]
    },
    {
      "cell_type": "markdown",
      "source": [
        "# 연결리스트\n",
        "## 단일연결리스트"
      ],
      "metadata": {
        "id": "l1wM5p1k0w-m"
      }
    },
    {
      "cell_type": "code",
      "source": [
        "\n",
        "class LinkedList:\n",
        "  class Node:\n",
        "    def __init__(self, data = None, node = None):\n",
        "      self.data = data\n",
        "      self.next = node\n",
        "\n",
        "  def __init__(self):\n",
        "    self.head = None # LinkedList의 시작 노드를 알고있는 변수\n",
        "    self.length = 0 # 요소의 갯수를 저장할 변수\n",
        "\n",
        "  # 리스트 맨 앞에 요소를 추가하는 메소드\n",
        "  # 맨 앞에 삽입하는 경우 시간복잡도 : O(1)\n",
        "  def insertFirst(self, data):\n",
        "    newNode = self.Node(data, self.head)\n",
        "    self.head = newNode\n",
        "    self.length += 1\n",
        "\n",
        "  # 리스트 마지막에 삽입하는 메소드\n",
        "  def insertLast(self, data):\n",
        "    # 리스트가 비어있다면\n",
        "    if self.head == None:\n",
        "      # 맨 앞에 삽입하는 것과 같다\n",
        "      self.insertFirst(data)\n",
        "      return # 함수종료\n",
        "\n",
        "    # curr : current, 순회용 객체\n",
        "    curr = self.head # curr에는 첫번째 노드가 들어있다\n",
        "    while curr.next != None:\n",
        "      curr = curr.next # curr에 다음 노드를 담아준다\n",
        "    \n",
        "    # while문이 끝나면 curr에는 내가 찾는 마지막 노드가 들어있다\n",
        "    newNode = self.Node(data)# 새롭게 추가할 노드는 마지막 노드이므로\n",
        "                        # 다음 노드는 None값을 넣어준다\n",
        "    curr.next = newNode\n",
        "    self.length += 1\n",
        "\n",
        "  def insert(self, idx, data):\n",
        "    # idx 번호가 유효하지 않다면 실패\n",
        "    if 0 <= idx <= self.length:\n",
        "      if idx == 0:\n",
        "        self.insertFirst(data)\n",
        "        return\n",
        "      \n",
        "      curr = self.head\n",
        "      for i in range(idx - 1):\n",
        "        curr = curr.next\n",
        "      \n",
        "      #반복문이 끝나면 curr에는 삽입하고자 하는 위치 이전 노드가 들어있다\n",
        "      newNode = self.Node(data, curr.next)\n",
        "      curr.next = newNode\n",
        "      self.length += 1\n",
        "  \n",
        "  # 삭제\n",
        "  def removeFirst(self):\n",
        "    if self.head != None:\n",
        "      removeNode = self.head \n",
        "      self.head = removeNode.next\n",
        "      self.length -= 1\n",
        "  \n",
        "  def removeLast(self):\n",
        "    # 리스트가 비어있을 때는 실패\n",
        "    if self.head == None: return\n",
        "    # 리스트에 요소가 1개 있다면\n",
        "    if self.length == 1:\n",
        "      self.removeFirst() # 첫번째 요소 삭제\n",
        "      return # 메소드 종료\n",
        "\n",
        "    curr = self.head \n",
        "    while curr.next.next != None:\n",
        "      curr = curr.next\n",
        "    # while문이 끝나면 curr에는 삭제하고자 하는 노드 이전노드가 들어있다\n",
        "    # removeNode = curr.next\n",
        "    curr.next = curr.next.next\n",
        "    self.length -= 1\n",
        "  #idx 번호로 삭제\n",
        "  def remove(self, idx):\n",
        "    if 0 <= idx < self.length:\n",
        "      if idx == 0:\n",
        "        self.removeFirst()\n",
        "        return\n",
        "      \n",
        "      curr = self.head\n",
        "      for i in range(idx):\n",
        "        prev = curr\n",
        "        curr = curr.next\n",
        "      # prev에는 삭제하기 이전노드가 들어있고\n",
        "      # curr에는 삭제할 노드가 들어있다\n",
        "      prev.next = curr.next\n",
        "      self.length -= 1\n",
        "\n",
        "      # for i in range(idx-1):\n",
        "      #   curr = curr.next\n",
        "      # # for문이 다 끝나고 나면 curr에는 삭제하기 이전노드가 담겨있다\n",
        "      # removeNode = curr.next # 삭제할 노드\n",
        "      # curr.next = removeNode.next\n",
        "\n",
        "  # 검색\n",
        "  def select(self, idx):\n",
        "    if 0<= idx < self.length :\n",
        "      curr = self.head\n",
        "      for i in range(idx):\n",
        "        curr = curr.next\n",
        "      # curr에는 내가 검색할 노드가 들어있다\n",
        "      return curr.data\n",
        "\n",
        "  # 수정\n",
        "  def update(self, idx, data):\n",
        "    if 0 <= idx < self.length:\n",
        "      curr = self.head\n",
        "      for i in range(idx):\n",
        "        curr = curr.next \n",
        "      \n",
        "      curr.data = data\n",
        "\n",
        "  def show(self):\n",
        "    curr = self.head\n",
        "    while curr != None:\n",
        "      print(curr.data, end = '->')\n",
        "      curr = curr.next\n",
        "    print()"
      ],
      "metadata": {
        "id": "qlfZ3Wi_00YQ"
      },
      "execution_count": null,
      "outputs": []
    },
    {
      "cell_type": "code",
      "source": [
        "li = LinkedList()\n",
        "li.insertLast(10)\n",
        "li.insertLast(20)\n",
        "li.show()\n",
        "li.insertFirst(100)\n",
        "li.show()\n",
        "li.insert(2, 500)\n",
        "li.show()\n",
        "\n",
        "li.removeFirst()\n",
        "li.show()\n",
        "li.removeLast()\n",
        "li.show()\n",
        "li.remove(0)\n",
        "li.show()\n",
        "print(li.select(0))\n",
        "li.update(0, 1000)\n",
        "li.show()"
      ],
      "metadata": {
        "colab": {
          "base_uri": "https://localhost:8080/"
        },
        "id": "rZNrNQSLPAAa",
        "outputId": "ed880515-ca50-495f-d8c6-f5233d8f6afb"
      },
      "execution_count": null,
      "outputs": [
        {
          "output_type": "stream",
          "name": "stdout",
          "text": [
            "10->20->\n",
            "100->10->20->\n",
            "100->10->500->20->\n",
            "10->500->20->\n",
            "10->500->\n",
            "500->\n",
            "500\n",
            "1000->\n"
          ]
        }
      ]
    },
    {
      "cell_type": "markdown",
      "source": [
        "# 이중연결리스트\n",
        "## 더미노드가 있는 연결리스트"
      ],
      "metadata": {
        "id": "6ttjYgRaV2gG"
      }
    },
    {
      "cell_type": "code",
      "source": [
        "class DList:\n",
        "  class Node:\n",
        "    def __init__(self, data=None, leftNode=None, rightNode =None):\n",
        "      self.data = data\n",
        "      self.prev = leftNode\n",
        "      self.next = rightNode\n",
        "  \n",
        "  #리스트 클래스의 생성자\n",
        "  def __init__(self):\n",
        "    self.head = self.Node()\n",
        "    self.tail = self.Node()\n",
        "    self.head.next = self.tail\n",
        "    self.tail.prev = self.prev\n",
        "    self.length = 0\n",
        "\n",
        "  #추가\n",
        "  #수정\n",
        "  #삭제\n",
        "  #검색"
      ],
      "metadata": {
        "id": "MsDMnmCtV4Bx"
      },
      "execution_count": null,
      "outputs": []
    }
  ]
}